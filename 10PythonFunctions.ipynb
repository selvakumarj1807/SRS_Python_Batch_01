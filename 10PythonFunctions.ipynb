{
 "cells": [
  {
   "cell_type": "markdown",
   "id": "9a58eaf2-9e9a-428a-b445-cc7a31673505",
   "metadata": {},
   "source": [
    "Functions:\n",
    "----------\n",
    "\n",
    "Function is a block of code. which only runs. when it is called"
   ]
  },
  {
   "cell_type": "code",
   "execution_count": 1,
   "id": "d3ff53c3-c36a-4127-8363-b22a5eaa75d5",
   "metadata": {},
   "outputs": [],
   "source": [
    "# Function Creation\n",
    "\n",
    "def welcome():\n",
    "    print('Welcome Python!...')"
   ]
  },
  {
   "cell_type": "code",
   "execution_count": 2,
   "id": "708b2344-9ab5-4538-b2e0-64482332d4ae",
   "metadata": {},
   "outputs": [
    {
     "name": "stdout",
     "output_type": "stream",
     "text": [
      "Welcome Python!...\n",
      "Welcome Python!...\n",
      "Welcome Python!...\n",
      "Welcome Python!...\n"
     ]
    }
   ],
   "source": [
    "# Call the Function\n",
    "\n",
    "welcome()\n",
    "\n",
    "welcome()\n",
    "\n",
    "welcome()\n",
    "\n",
    "welcome()"
   ]
  },
  {
   "cell_type": "markdown",
   "id": "9a5c8c70-a333-40c7-b456-d92f2e1da7b0",
   "metadata": {},
   "source": [
    "# 01. No Return Type with Out Argument\n",
    "--------------------------------------"
   ]
  },
  {
   "cell_type": "code",
   "execution_count": 3,
   "id": "ff67b23c-dc5a-439e-8daf-d2cee18ab5f7",
   "metadata": {},
   "outputs": [],
   "source": [
    "def addTwoNum():\n",
    "    a = int(input('Enter Value 01 : '))\n",
    "    b = int(input('Enter Value 02 : '))\n",
    "\n",
    "    print(a, ' + ', b, ' = ', a + b)"
   ]
  },
  {
   "cell_type": "code",
   "execution_count": 4,
   "id": "998c9832-0776-4d8c-b55c-0b4fbdef3488",
   "metadata": {},
   "outputs": [
    {
     "name": "stdin",
     "output_type": "stream",
     "text": [
      "Enter Value 01 :  10\n",
      "Enter Value 02 :  2\n"
     ]
    },
    {
     "name": "stdout",
     "output_type": "stream",
     "text": [
      "10  +  2  =  12\n",
      "------------------------------------------\n"
     ]
    },
    {
     "name": "stdin",
     "output_type": "stream",
     "text": [
      "Enter Value 01 :  20\n",
      "Enter Value 02 :  2\n"
     ]
    },
    {
     "name": "stdout",
     "output_type": "stream",
     "text": [
      "20  +  2  =  22\n"
     ]
    }
   ],
   "source": [
    "addTwoNum()\n",
    "\n",
    "print('------------------------------------------')\n",
    "\n",
    "addTwoNum()"
   ]
  },
  {
   "cell_type": "markdown",
   "id": "852f92ce-83d9-4383-ad33-1ba38985eb69",
   "metadata": {},
   "source": [
    "# 02. No Return Type With Argument\n",
    "----------------------------------"
   ]
  },
  {
   "cell_type": "code",
   "execution_count": 6,
   "id": "8cefd0b4-fe40-4d8c-b2c7-4962c1ff9c57",
   "metadata": {},
   "outputs": [],
   "source": [
    "# Function Creation\n",
    "\n",
    "def addTwoNum(a, b):\n",
    "    print(a, ' + ', b, ' = ', a + b)"
   ]
  },
  {
   "cell_type": "code",
   "execution_count": 8,
   "id": "73c141a2-9c39-419c-ab41-5f95bb6b3237",
   "metadata": {},
   "outputs": [
    {
     "name": "stdin",
     "output_type": "stream",
     "text": [
      "Enter Value 01 :  22\n",
      "Enter Value 02 :  1\n"
     ]
    },
    {
     "name": "stdout",
     "output_type": "stream",
     "text": [
      "22  +  1  =  23\n",
      "------------------------------------------\n",
      "11  +  2  =  13\n",
      "------------------------------------------\n",
      "20  +  2  =  22\n"
     ]
    }
   ],
   "source": [
    "# Call the Function \n",
    "\n",
    "a = int(input('Enter Value 01 : '))\n",
    "b = int(input('Enter Value 02 : '))\n",
    "\n",
    "addTwoNum(a, b)\n",
    "\n",
    "print('------------------------------------------')\n",
    "\n",
    "addTwoNum(11, 2)\n",
    "\n",
    "print('------------------------------------------')\n",
    "\n",
    "addTwoNum(20, 2)\n"
   ]
  },
  {
   "cell_type": "markdown",
   "id": "c6dc8e55-9497-4896-95cd-6a68f8da6080",
   "metadata": {},
   "source": [
    "# 03. Return Type With Out Arguments\n",
    "------------------------------------"
   ]
  },
  {
   "cell_type": "code",
   "execution_count": 9,
   "id": "e6dbfe4b-3ea5-4bf4-aad7-ceeba1946ffe",
   "metadata": {},
   "outputs": [],
   "source": [
    "def addTwoNum():\n",
    "    a = int(input('Enter Value 01 : '))\n",
    "    b = int(input('Enter Value 02 : '))\n",
    "\n",
    "    c = a + b\n",
    "\n",
    "    return c"
   ]
  },
  {
   "cell_type": "code",
   "execution_count": 10,
   "id": "2987c0c6-4f24-4957-ad15-01fa85f0e946",
   "metadata": {},
   "outputs": [
    {
     "name": "stdin",
     "output_type": "stream",
     "text": [
      "Enter Value 01 :  10\n",
      "Enter Value 02 :  12\n"
     ]
    },
    {
     "name": "stdout",
     "output_type": "stream",
     "text": [
      "22\n",
      "------------------------------------------\n"
     ]
    },
    {
     "name": "stdin",
     "output_type": "stream",
     "text": [
      "Enter Value 01 :  11\n",
      "Enter Value 02 :  11\n"
     ]
    },
    {
     "name": "stdout",
     "output_type": "stream",
     "text": [
      "22\n"
     ]
    }
   ],
   "source": [
    "v1 = addTwoNum()\n",
    "\n",
    "print(v1)\n",
    "\n",
    "print('------------------------------------------')\n",
    "\n",
    "print(addTwoNum())"
   ]
  },
  {
   "cell_type": "markdown",
   "id": "323ffd34-f398-4559-927a-fa2c2ef3d540",
   "metadata": {},
   "source": [
    "# 04. Return Type with Argument\n",
    "-------------------------------"
   ]
  },
  {
   "cell_type": "code",
   "execution_count": 12,
   "id": "d96ba73c-e314-45b0-99a7-e79cd7d04304",
   "metadata": {},
   "outputs": [],
   "source": [
    "# Function Cretaion\n",
    "\n",
    "def addTwoNum(a, b):\n",
    "    c = a + b\n",
    "\n",
    "    return c"
   ]
  },
  {
   "cell_type": "code",
   "execution_count": 13,
   "id": "b1d83c4a-a854-4827-8462-a0cb28eafba7",
   "metadata": {},
   "outputs": [
    {
     "name": "stdin",
     "output_type": "stream",
     "text": [
      "Enter Value 01 :  10\n",
      "Enter Value 02 :  5\n"
     ]
    },
    {
     "name": "stdout",
     "output_type": "stream",
     "text": [
      "15\n",
      "-------------------------------------------\n",
      "30\n",
      "-------------------------------------------\n",
      "70\n"
     ]
    }
   ],
   "source": [
    "# Call the Function\n",
    "\n",
    "a = int(input('Enter Value 01 : '))\n",
    "b = int(input('Enter Value 02 : '))\n",
    "\n",
    "v1 = addTwoNum(a, b)\n",
    "\n",
    "print(v1)\n",
    "\n",
    "print('-------------------------------------------')\n",
    "\n",
    "v2 = addTwoNum(20, 10)\n",
    "\n",
    "print(v2)\n",
    "\n",
    "print('-------------------------------------------')\n",
    "\n",
    "print(addTwoNum(50, 20))"
   ]
  },
  {
   "cell_type": "code",
   "execution_count": null,
   "id": "62375b36-3463-4abc-ad98-ff1642c78421",
   "metadata": {},
   "outputs": [],
   "source": []
  }
 ],
 "metadata": {
  "kernelspec": {
   "display_name": "Python 3 (ipykernel)",
   "language": "python",
   "name": "python3"
  },
  "language_info": {
   "codemirror_mode": {
    "name": "ipython",
    "version": 3
   },
   "file_extension": ".py",
   "mimetype": "text/x-python",
   "name": "python",
   "nbconvert_exporter": "python",
   "pygments_lexer": "ipython3",
   "version": "3.13.2"
  }
 },
 "nbformat": 4,
 "nbformat_minor": 5
}
