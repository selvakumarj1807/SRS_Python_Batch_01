{
 "cells": [
  {
   "cell_type": "markdown",
   "id": "9a58eaf2-9e9a-428a-b445-cc7a31673505",
   "metadata": {},
   "source": [
    "Functions:\n",
    "----------\n",
    "\n",
    "Function is a block of code. which only runs. when it is called"
   ]
  },
  {
   "cell_type": "code",
   "execution_count": 2,
   "id": "d3ff53c3-c36a-4127-8363-b22a5eaa75d5",
   "metadata": {},
   "outputs": [],
   "source": [
    "# Function Creation\n",
    "\n",
    "def welcome():\n",
    "    print('Welcome Python!...')"
   ]
  },
  {
   "cell_type": "code",
   "execution_count": 3,
   "id": "708b2344-9ab5-4538-b2e0-64482332d4ae",
   "metadata": {},
   "outputs": [
    {
     "name": "stdout",
     "output_type": "stream",
     "text": [
      "Welcome Python!...\n",
      "Welcome Python!...\n",
      "Welcome Python!...\n",
      "Welcome Python!...\n"
     ]
    }
   ],
   "source": [
    "# Call the Function\n",
    "\n",
    "welcome()\n",
    "\n",
    "welcome()\n",
    "\n",
    "welcome()\n",
    "\n",
    "welcome()"
   ]
  },
  {
   "cell_type": "markdown",
   "id": "9a5c8c70-a333-40c7-b456-d92f2e1da7b0",
   "metadata": {},
   "source": [
    "# 01. No Return Type with Out Argument\n",
    "--------------------------------------"
   ]
  },
  {
   "cell_type": "code",
   "execution_count": 4,
   "id": "ff67b23c-dc5a-439e-8daf-d2cee18ab5f7",
   "metadata": {},
   "outputs": [],
   "source": [
    "def addTwoNum():\n",
    "    a = int(input('Enter Value 01 : '))\n",
    "    b = int(input('Enter Value 02 : '))\n",
    "\n",
    "    print(a, ' + ', b, ' = ', a + b)"
   ]
  },
  {
   "cell_type": "code",
   "execution_count": 5,
   "id": "998c9832-0776-4d8c-b55c-0b4fbdef3488",
   "metadata": {},
   "outputs": [
    {
     "name": "stdin",
     "output_type": "stream",
     "text": [
      "Enter Value 01 :  10\n",
      "Enter Value 02 :  2\n"
     ]
    },
    {
     "name": "stdout",
     "output_type": "stream",
     "text": [
      "10  +  2  =  12\n",
      "------------------------------------------\n"
     ]
    },
    {
     "name": "stdin",
     "output_type": "stream",
     "text": [
      "Enter Value 01 :  15\n",
      "Enter Value 02 :  2\n"
     ]
    },
    {
     "name": "stdout",
     "output_type": "stream",
     "text": [
      "15  +  2  =  17\n"
     ]
    }
   ],
   "source": [
    "addTwoNum()\n",
    "\n",
    "print('------------------------------------------')\n",
    "\n",
    "addTwoNum()"
   ]
  },
  {
   "cell_type": "markdown",
   "id": "852f92ce-83d9-4383-ad33-1ba38985eb69",
   "metadata": {},
   "source": [
    "# 02. No Return Type With Argument\n",
    "----------------------------------"
   ]
  },
  {
   "cell_type": "code",
   "execution_count": 6,
   "id": "8cefd0b4-fe40-4d8c-b2c7-4962c1ff9c57",
   "metadata": {},
   "outputs": [],
   "source": [
    "# Function Creation\n",
    "\n",
    "def addTwoNum(a, b):\n",
    "    print(a, ' + ', b, ' = ', a + b)"
   ]
  },
  {
   "cell_type": "code",
   "execution_count": 7,
   "id": "73c141a2-9c39-419c-ab41-5f95bb6b3237",
   "metadata": {},
   "outputs": [
    {
     "name": "stdin",
     "output_type": "stream",
     "text": [
      "Enter Value 01 :  22\n",
      "Enter Value 02 :  2\n"
     ]
    },
    {
     "name": "stdout",
     "output_type": "stream",
     "text": [
      "22  +  2  =  24\n",
      "------------------------------------------\n",
      "11  +  2  =  13\n",
      "------------------------------------------\n",
      "20  +  2  =  22\n"
     ]
    }
   ],
   "source": [
    "# Call the Function \n",
    "\n",
    "a = int(input('Enter Value 01 : '))\n",
    "b = int(input('Enter Value 02 : '))\n",
    "\n",
    "addTwoNum(a, b)\n",
    "\n",
    "print('------------------------------------------')\n",
    "\n",
    "addTwoNum(11, 2)\n",
    "\n",
    "print('------------------------------------------')\n",
    "\n",
    "addTwoNum(20, 2)\n"
   ]
  },
  {
   "cell_type": "markdown",
   "id": "c6dc8e55-9497-4896-95cd-6a68f8da6080",
   "metadata": {},
   "source": [
    "# 03. Return Type With Out Arguments\n",
    "------------------------------------"
   ]
  },
  {
   "cell_type": "code",
   "execution_count": 8,
   "id": "e6dbfe4b-3ea5-4bf4-aad7-ceeba1946ffe",
   "metadata": {},
   "outputs": [],
   "source": [
    "def addTwoNum():\n",
    "    a = int(input('Enter Value 01 : '))\n",
    "    b = int(input('Enter Value 02 : '))\n",
    "\n",
    "    c = a + b\n",
    "\n",
    "    return c"
   ]
  },
  {
   "cell_type": "code",
   "execution_count": 9,
   "id": "2987c0c6-4f24-4957-ad15-01fa85f0e946",
   "metadata": {},
   "outputs": [
    {
     "name": "stdin",
     "output_type": "stream",
     "text": [
      "Enter Value 01 :  25\n",
      "Enter Value 02 :  5\n"
     ]
    },
    {
     "name": "stdout",
     "output_type": "stream",
     "text": [
      "30\n",
      "------------------------------------------\n"
     ]
    },
    {
     "name": "stdin",
     "output_type": "stream",
     "text": [
      "Enter Value 01 :  11\n",
      "Enter Value 02 :  1\n"
     ]
    },
    {
     "name": "stdout",
     "output_type": "stream",
     "text": [
      "12\n"
     ]
    }
   ],
   "source": [
    "v1 = addTwoNum()\n",
    "\n",
    "print(v1)\n",
    "\n",
    "print('------------------------------------------')\n",
    "\n",
    "print(addTwoNum())"
   ]
  },
  {
   "cell_type": "markdown",
   "id": "323ffd34-f398-4559-927a-fa2c2ef3d540",
   "metadata": {},
   "source": [
    "# 04. Return Type with Argument\n",
    "-------------------------------"
   ]
  },
  {
   "cell_type": "code",
   "execution_count": 10,
   "id": "d96ba73c-e314-45b0-99a7-e79cd7d04304",
   "metadata": {},
   "outputs": [],
   "source": [
    "# Function Cretaion\n",
    "\n",
    "def addTwoNum(a, b):\n",
    "    c = a + b\n",
    "\n",
    "    return c"
   ]
  },
  {
   "cell_type": "code",
   "execution_count": 11,
   "id": "b1d83c4a-a854-4827-8462-a0cb28eafba7",
   "metadata": {},
   "outputs": [
    {
     "name": "stdin",
     "output_type": "stream",
     "text": [
      "Enter Value 01 :  22\n",
      "Enter Value 02 :  1\n"
     ]
    },
    {
     "name": "stdout",
     "output_type": "stream",
     "text": [
      "23\n",
      "-------------------------------------------\n",
      "30\n",
      "-------------------------------------------\n",
      "70\n"
     ]
    }
   ],
   "source": [
    "# Call the Function\n",
    "\n",
    "a = int(input('Enter Value 01 : '))\n",
    "b = int(input('Enter Value 02 : '))\n",
    "\n",
    "v1 = addTwoNum(a, b)\n",
    "\n",
    "print(v1)\n",
    "\n",
    "print('-------------------------------------------')\n",
    "\n",
    "v2 = addTwoNum(20, 10)\n",
    "\n",
    "print(v2)\n",
    "\n",
    "print('-------------------------------------------')\n",
    "\n",
    "print(addTwoNum(50, 20))"
   ]
  },
  {
   "cell_type": "markdown",
   "id": "121dc2ab-651f-47ea-84bb-f71ef2600013",
   "metadata": {},
   "source": [
    "Function Properties:\n",
    "--------------------"
   ]
  },
  {
   "cell_type": "markdown",
   "id": "6a88a53c-94a4-42f2-bd04-aa20208def95",
   "metadata": {},
   "source": [
    "# 01. Arbitrary Argument Function:\n",
    "----------------------------------"
   ]
  },
  {
   "cell_type": "code",
   "execution_count": 12,
   "id": "6f58db5c-09f5-456e-8ccf-d5aab8c878c2",
   "metadata": {},
   "outputs": [],
   "source": [
    "# Function Creation\n",
    "\n",
    "def studenDdetails (*details):\n",
    "    print(details, type(details))"
   ]
  },
  {
   "cell_type": "code",
   "execution_count": 13,
   "id": "ea6a0058-0ae5-4472-ad20-2c8278f4ddc9",
   "metadata": {},
   "outputs": [
    {
     "name": "stdout",
     "output_type": "stream",
     "text": [
      "(101, 'Sara', 22, 'Male') <class 'tuple'>\n"
     ]
    }
   ],
   "source": [
    "# Call the Function\n",
    "\n",
    "studenDdetails(101, 'Sara', 22, 'Male')"
   ]
  },
  {
   "cell_type": "markdown",
   "id": "f76e1775-b5d2-4c22-a819-ad1f2417d83b",
   "metadata": {},
   "source": [
    "# 02. Keyword Argument Function:\n",
    "--------------------------------"
   ]
  },
  {
   "cell_type": "code",
   "execution_count": 14,
   "id": "583cf0ad-dae0-4e4e-99f4-db40f8c94b87",
   "metadata": {},
   "outputs": [],
   "source": [
    "# Function Creation\n",
    "\n",
    "def studenDdetails (id, name, age, gender):\n",
    "    print('Student Id: ', id, ' Your name is ', name, ' age is ', age, ' and gender is ', gender )"
   ]
  },
  {
   "cell_type": "code",
   "execution_count": 15,
   "id": "f40cb223-c79e-4029-9729-de31e8b96ffe",
   "metadata": {},
   "outputs": [
    {
     "name": "stdout",
     "output_type": "stream",
     "text": [
      "Student Id:  101  Your name is  Sara  age is  22  and gender is  Male\n",
      "Student Id:  101  Your name is  Sara  age is  22  and gender is  Male\n"
     ]
    }
   ],
   "source": [
    "# Call the Function\n",
    "\n",
    "studenDdetails(101, 'Sara', 22, 'Male')\n",
    "\n",
    "studenDdetails(id = 101, gender = 'Male', name = 'Sara', age = 22)"
   ]
  },
  {
   "cell_type": "markdown",
   "id": "9a389cb1-0784-4c9c-97e9-9d9580b1bc77",
   "metadata": {},
   "source": [
    "# 03 Keyword Arbitrary Argument Function:\n",
    "-----------------------------------------"
   ]
  },
  {
   "cell_type": "code",
   "execution_count": 16,
   "id": "d97f9f34-177d-4ec4-abd3-2ed06d7c95b9",
   "metadata": {},
   "outputs": [],
   "source": [
    "# Function Creation\n",
    "\n",
    "def studenDdetails (**details):\n",
    "    print(details, type(details))"
   ]
  },
  {
   "cell_type": "code",
   "execution_count": 17,
   "id": "1f9b817f-eb42-4bcd-bff2-610064bc1c22",
   "metadata": {},
   "outputs": [
    {
     "name": "stdout",
     "output_type": "stream",
     "text": [
      "{'id': 101, 'gender': 'Male', 'name': 'Sara', 'age': 22} <class 'dict'>\n"
     ]
    }
   ],
   "source": [
    "# Call the Function\n",
    "\n",
    "studenDdetails(id = 101, gender = 'Male', name = 'Sara', age = 22)"
   ]
  },
  {
   "cell_type": "markdown",
   "id": "a3f73d55-f8b3-461f-9901-dd018230e3b9",
   "metadata": {},
   "source": [
    "# 04. Default Parameter Function:\n",
    "---------------------------------"
   ]
  },
  {
   "cell_type": "code",
   "execution_count": 18,
   "id": "09a95d40-7ac6-4423-9162-b5bde725b191",
   "metadata": {},
   "outputs": [],
   "source": [
    "# Function Creation\n",
    "\n",
    "def studenDdetails (id, name, age, gender, state = 'TN'):\n",
    "    print('Student Id: ', id, ' Your name is ', name, ' age is ', age, ' and gender is ', gender, ' and your state is ', state )"
   ]
  },
  {
   "cell_type": "code",
   "execution_count": 19,
   "id": "2d97928e-a265-4f9b-9962-1d64390e6443",
   "metadata": {},
   "outputs": [
    {
     "name": "stdout",
     "output_type": "stream",
     "text": [
      "Student Id:  101  Your name is  Sara  age is  22  and gender is  Male  and your state is  KL\n",
      "Student Id:  101  Your name is  Sara  age is  22  and gender is  Male  and your state is  TN\n"
     ]
    }
   ],
   "source": [
    "# Call the Function\n",
    "\n",
    "studenDdetails(101, 'Sara', 22, 'Male', 'KL')\n",
    "\n",
    "studenDdetails(id = 101, gender = 'Male', name = 'Sara', age = 22)"
   ]
  },
  {
   "cell_type": "markdown",
   "id": "074f0f66-c966-40b8-9f10-193a07f19aed",
   "metadata": {},
   "source": [
    "# 05. Pass the List Values In The Argument:\n",
    "-------------------------------------------"
   ]
  },
  {
   "cell_type": "code",
   "execution_count": 18,
   "id": "9188bb96-4368-41cb-85f7-a7a68859019f",
   "metadata": {},
   "outputs": [],
   "source": [
    "# Function Creation\n",
    "\n",
    "def studenDdetails (details):\n",
    "    print(details, type(details))"
   ]
  },
  {
   "cell_type": "code",
   "execution_count": 19,
   "id": "12e20630-b751-4779-b6b8-9555e7472340",
   "metadata": {},
   "outputs": [
    {
     "name": "stdout",
     "output_type": "stream",
     "text": [
      "[101, 'Sara', 22, 'Male'] <class 'list'>\n"
     ]
    }
   ],
   "source": [
    "# Call the Function\n",
    "\n",
    "studenDdetails([101, 'Sara', 22, 'Male'])"
   ]
  },
  {
   "cell_type": "code",
   "execution_count": null,
   "id": "d99bc0c3-5664-4159-ad9c-838dc8d59f88",
   "metadata": {},
   "outputs": [],
   "source": []
  }
 ],
 "metadata": {
  "kernelspec": {
   "display_name": "Python 3 (ipykernel)",
   "language": "python",
   "name": "python3"
  },
  "language_info": {
   "codemirror_mode": {
    "name": "ipython",
    "version": 3
   },
   "file_extension": ".py",
   "mimetype": "text/x-python",
   "name": "python",
   "nbconvert_exporter": "python",
   "pygments_lexer": "ipython3",
   "version": "3.13.2"
  }
 },
 "nbformat": 4,
 "nbformat_minor": 5
}
