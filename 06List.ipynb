{
 "cells": [
  {
   "cell_type": "markdown",
   "id": "a7ff83ee-dbc3-40af-a31b-8c6ec5be633b",
   "metadata": {},
   "source": [
    "List:\n",
    "-----\n",
    "\n",
    "1. List is collection of Data Type\n",
    "2. List are Declare [] - square brackets\n",
    "3. List are mutable (changable)\n",
    "4. List Values are store in a single variable - Using Index "
   ]
  },
  {
   "cell_type": "code",
   "execution_count": 2,
   "id": "bd4fd3f6-453b-4b58-9bf2-cb2ccb3b04f3",
   "metadata": {},
   "outputs": [
    {
     "name": "stdout",
     "output_type": "stream",
     "text": [
      "['Sara', 'Ram', 'Sam'] <class 'list'>\n"
     ]
    }
   ],
   "source": [
    "names = ['Sara', 'Ram', 'Sam']\n",
    "\n",
    "print(names, type(names))"
   ]
  },
  {
   "cell_type": "code",
   "execution_count": 3,
   "id": "e37a7410-2d2f-4fac-a8aa-a0ad69b21055",
   "metadata": {},
   "outputs": [
    {
     "name": "stdout",
     "output_type": "stream",
     "text": [
      "[101, 'Sara', 22] <class 'list'>\n"
     ]
    }
   ],
   "source": [
    "details = [101, 'Sara', 22]\n",
    "\n",
    "print(details, type(details))"
   ]
  },
  {
   "cell_type": "markdown",
   "id": "ddc27cad-dd3a-4083-be70-725c5c34de80",
   "metadata": {},
   "source": [
    "Value Selection Using Index \n",
    "---------------------------"
   ]
  },
  {
   "cell_type": "code",
   "execution_count": 6,
   "id": "e1d6c24a-0c64-48cd-87f7-a22d1965cf13",
   "metadata": {},
   "outputs": [
    {
     "name": "stdout",
     "output_type": "stream",
     "text": [
      "[101, 'Sara', 22]\n",
      "----------------------------------------------------------\n",
      "101\n",
      "[101, 'Sara']\n"
     ]
    }
   ],
   "source": [
    "details = [101, 'Sara', 22]\n",
    "\n",
    "print(details)\n",
    "\n",
    "print('----------------------------------------------------------')\n",
    "\n",
    "print(details[0])\n",
    "\n",
    "print(details[0:2])"
   ]
  },
  {
   "cell_type": "markdown",
   "id": "6f47cdbd-a06f-4227-aba4-36958174871c",
   "metadata": {},
   "source": [
    "Append:\n",
    "-------"
   ]
  },
  {
   "cell_type": "code",
   "execution_count": 7,
   "id": "13a62196-4623-4189-b7de-8f2d53ca6a1d",
   "metadata": {},
   "outputs": [
    {
     "name": "stdout",
     "output_type": "stream",
     "text": [
      "[101, 'Sara', 22]\n",
      "----------------------------------------------------------\n",
      "[101, 'Sara', 22, 'Male']\n"
     ]
    }
   ],
   "source": [
    "details = [101, 'Sara', 22]\n",
    "\n",
    "print(details)\n",
    "\n",
    "print('----------------------------------------------------------')\n",
    "\n",
    "details.append('Male')\n",
    "\n",
    "print(details)"
   ]
  },
  {
   "cell_type": "markdown",
   "id": "22df6281-d406-4b14-9910-12e7a85334de",
   "metadata": {},
   "source": [
    "Extend:\n",
    "-------"
   ]
  },
  {
   "cell_type": "code",
   "execution_count": 10,
   "id": "d359bb2d-88b7-4a17-9494-ca9759c08a71",
   "metadata": {},
   "outputs": [
    {
     "name": "stdout",
     "output_type": "stream",
     "text": [
      "[101, 'Sara', 22]\n",
      "----------------------------------------------------------\n",
      "['Male', 950012258]\n",
      "----------------------------------------------------------\n",
      "[101, 'Sara', 22, 'Male', 950012258]\n"
     ]
    }
   ],
   "source": [
    "details01 = [101, 'Sara', 22]\n",
    "\n",
    "print(details01)\n",
    "\n",
    "print('----------------------------------------------------------')\n",
    "\n",
    "details02 = ['Male', 950012258]\n",
    "\n",
    "print(details02)\n",
    "\n",
    "print('----------------------------------------------------------')\n",
    "\n",
    "details01.extend(details02)\n",
    "\n",
    "print(details01)"
   ]
  },
  {
   "cell_type": "markdown",
   "id": "51b5af71-de3d-4c74-9cd9-17874dba3938",
   "metadata": {},
   "source": [
    "Insert:\n",
    "-------"
   ]
  },
  {
   "cell_type": "code",
   "execution_count": 11,
   "id": "79fa89ce-2d3b-4e77-9471-d8f5b5ee7827",
   "metadata": {},
   "outputs": [
    {
     "name": "stdout",
     "output_type": "stream",
     "text": [
      "[101, 'Sara', 22]\n",
      "----------------------------------------------------------\n",
      "[101, 'Sara', 'Male', 22]\n"
     ]
    }
   ],
   "source": [
    "details01 = [101, 'Sara', 22]\n",
    "\n",
    "print(details01)\n",
    "\n",
    "print('----------------------------------------------------------')\n",
    "\n",
    "# listVariable.insert(indexPosition, value)\n",
    "\n",
    "details01.insert(2, 'Male')\n",
    "\n",
    "print(details01)\n"
   ]
  },
  {
   "cell_type": "markdown",
   "id": "e48a4304-61e0-4b5c-9285-a4d0d0c4c025",
   "metadata": {},
   "source": [
    "Remove:\n",
    "-------"
   ]
  },
  {
   "cell_type": "code",
   "execution_count": 13,
   "id": "dbe1a1f8-cf6a-4964-83bd-45ae1da522c5",
   "metadata": {},
   "outputs": [
    {
     "name": "stdout",
     "output_type": "stream",
     "text": [
      "[101, 'Sara', 22]\n",
      "----------------------------------------------------------\n",
      "[101, 22]\n"
     ]
    }
   ],
   "source": [
    "details = [101, 'Sara', 22]\n",
    "\n",
    "print(details)\n",
    "\n",
    "print('----------------------------------------------------------')\n",
    "\n",
    "details.remove('Sara')\n",
    "\n",
    "print(details)"
   ]
  },
  {
   "cell_type": "markdown",
   "id": "cc8f517b-8798-4327-82c6-8e50503cf265",
   "metadata": {},
   "source": [
    "Pop:\n",
    "----"
   ]
  },
  {
   "cell_type": "code",
   "execution_count": 14,
   "id": "39f650a0-2043-4ef6-9eb2-f0faec50ec72",
   "metadata": {},
   "outputs": [
    {
     "name": "stdout",
     "output_type": "stream",
     "text": [
      "[101, 'Sara', 22]\n",
      "----------------------------------------------------------\n",
      "[101, 'Sara']\n"
     ]
    }
   ],
   "source": [
    "details = [101, 'Sara', 22]\n",
    "\n",
    "print(details)\n",
    "\n",
    "print('----------------------------------------------------------')\n",
    "\n",
    "details.pop()\n",
    "\n",
    "print(details)"
   ]
  },
  {
   "cell_type": "markdown",
   "id": "cc750af1-618c-4fb2-9e81-99e463ac25d3",
   "metadata": {},
   "source": [
    "Min, Max, Sum\n",
    "-------------"
   ]
  },
  {
   "cell_type": "code",
   "execution_count": 15,
   "id": "e5689e10-6c80-4233-aa26-7cfb232a9348",
   "metadata": {},
   "outputs": [
    {
     "name": "stdout",
     "output_type": "stream",
     "text": [
      "[18, 12, 20, 15, 16, 25, 22, 27, 24, 30, 28]\n",
      "----------------------------------------------------\n",
      "12\n",
      "30\n",
      "237\n"
     ]
    }
   ],
   "source": [
    "ageValues = [18, 12, 20, 15, 16, 25, 22, 27, 24, 30, 28]\n",
    "\n",
    "print(ageValues)\n",
    "\n",
    "print('----------------------------------------------------')\n",
    "\n",
    "print(min(ageValues))\n",
    "\n",
    "print(max(ageValues))\n",
    "\n",
    "print(sum(ageValues))"
   ]
  },
  {
   "cell_type": "markdown",
   "id": "b182a776-1022-49a1-8c48-01da404e0b77",
   "metadata": {},
   "source": [
    "Sort:\n",
    "-----"
   ]
  },
  {
   "cell_type": "code",
   "execution_count": 18,
   "id": "30d54673-02de-423b-93e1-bff47bbf2bf9",
   "metadata": {},
   "outputs": [
    {
     "name": "stdout",
     "output_type": "stream",
     "text": [
      "[18, 12, 20, 15, 16, 25, 22, 27, 24, 30, 28]\n",
      "----------------------------------------------------\n",
      "[12, 15, 16, 18, 20, 22, 24, 25, 27, 28, 30]\n",
      "----------------------------------------------------\n",
      "[30, 28, 27, 25, 24, 22, 20, 18, 16, 15, 12]\n"
     ]
    }
   ],
   "source": [
    "ageValues = [18, 12, 20, 15, 16, 25, 22, 27, 24, 30, 28]\n",
    "\n",
    "print(ageValues)\n",
    "\n",
    "print('----------------------------------------------------')\n",
    "\n",
    "ageValues.sort()\n",
    "\n",
    "print(ageValues)\n",
    "\n",
    "print('----------------------------------------------------')\n",
    "\n",
    "ageValues.sort(reverse = True)\n",
    "\n",
    "print(ageValues)"
   ]
  },
  {
   "cell_type": "markdown",
   "id": "61900d50-d8c4-41d1-9688-93874b318316",
   "metadata": {},
   "source": [
    "Count, Find, Len:\n",
    "-----------------"
   ]
  },
  {
   "cell_type": "code",
   "execution_count": 23,
   "id": "1dbfbc8b-2dfd-4075-9b52-29301006d441",
   "metadata": {},
   "outputs": [
    {
     "name": "stdout",
     "output_type": "stream",
     "text": [
      "[18, 12, 20, 15, 16, 25, 22, 27, 24, 30, 28, 18, 20, 18]\n",
      "----------------------------------------------------\n",
      "Count :  3\n",
      "Find Index Position:  0\n",
      "14\n"
     ]
    }
   ],
   "source": [
    "ageValues = [18, 12, 20, 15, 16, 25, 22, 27, 24, 30, 28, 18, 20, 18]\n",
    "\n",
    "print(ageValues)\n",
    "\n",
    "print('----------------------------------------------------')\n",
    "\n",
    "\n",
    "print('Count : ', ageValues.count(18))\n",
    "\n",
    "print('Find Index Position: ', ageValues.index(18))\n",
    "\n",
    "print(len(ageValues))"
   ]
  },
  {
   "cell_type": "code",
   "execution_count": null,
   "id": "edfe87d3-2414-406a-b3d8-6450d714c360",
   "metadata": {},
   "outputs": [],
   "source": []
  }
 ],
 "metadata": {
  "kernelspec": {
   "display_name": "Python 3 (ipykernel)",
   "language": "python",
   "name": "python3"
  },
  "language_info": {
   "codemirror_mode": {
    "name": "ipython",
    "version": 3
   },
   "file_extension": ".py",
   "mimetype": "text/x-python",
   "name": "python",
   "nbconvert_exporter": "python",
   "pygments_lexer": "ipython3",
   "version": "3.13.2"
  }
 },
 "nbformat": 4,
 "nbformat_minor": 5
}
