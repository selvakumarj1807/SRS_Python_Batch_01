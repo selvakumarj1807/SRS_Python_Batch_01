{
 "cells": [
  {
   "cell_type": "markdown",
   "id": "08cab86b-5d51-41fa-8ab2-5b495de60629",
   "metadata": {},
   "source": [
    "String Functions:\n",
    "-----------------"
   ]
  },
  {
   "cell_type": "code",
   "execution_count": 6,
   "id": "48b8a1c7-e4dd-4e26-a162-f0418c6c32e8",
   "metadata": {},
   "outputs": [
    {
     "name": "stdout",
     "output_type": "stream",
     "text": [
      "wElCOme To pYthOn\n",
      "-----------------------------------------------------------\n",
      "WELCOME TO PYTHON\n",
      "welcome to python\n",
      "Welcome to python\n",
      "Welcome To Python\n"
     ]
    }
   ],
   "source": [
    "v1 = 'wElCOme To pYthOn'\n",
    "\n",
    "print(v1)\n",
    "\n",
    "print('-----------------------------------------------------------')\n",
    "\n",
    "print(v1.upper())\n",
    "\n",
    "print(v1.lower())\n",
    "\n",
    "print(v1.capitalize())\n",
    "\n",
    "print(v1.title())"
   ]
  },
  {
   "cell_type": "code",
   "execution_count": 18,
   "id": "fc2272b3-fd1a-47ee-91d6-1538e6d01871",
   "metadata": {},
   "outputs": [
    {
     "name": "stdout",
     "output_type": "stream",
     "text": [
      "welcome to python\n",
      "-----------------------------------------------------------\n",
      "3\n",
      "4\n",
      "-----------------------------------------------------------\n",
      "True\n",
      "True\n",
      "-----------------------------------------------------------\n",
      "welcome to Python Fullstack\n"
     ]
    }
   ],
   "source": [
    "v1 = 'welcome to python'\n",
    "\n",
    "print(v1)\n",
    "\n",
    "print('-----------------------------------------------------------')\n",
    "\n",
    "print(v1.count('o')) # To count the Value\n",
    "\n",
    "print(v1.find('o')) # To find the Value index Position\n",
    "\n",
    "print('-----------------------------------------------------------')\n",
    "\n",
    "print(v1.startswith('welcome'))\n",
    "\n",
    "print(v1.endswith('python'))\n",
    "\n",
    "print('-----------------------------------------------------------')\n",
    "\n",
    "print(v1.replace('python', 'Python Fullstack'))\n"
   ]
  },
  {
   "cell_type": "markdown",
   "id": "2f2ce3bf-b173-40c0-a1e8-38500174f989",
   "metadata": {},
   "source": [
    "# Split & Split Lines:\n",
    "----------------------"
   ]
  },
  {
   "cell_type": "code",
   "execution_count": 21,
   "id": "c6d21832-0f75-4ac9-ad59-5e7257532abb",
   "metadata": {},
   "outputs": [
    {
     "name": "stdout",
     "output_type": "stream",
     "text": [
      "welcome to python\n",
      "-----------------------------------------------------------\n",
      "['welcome', 'to', 'python']\n",
      "-----------------------------------------------------------\n",
      "['Sara', ' Lara', ' Ram', ' Sam', ' Thara']\n"
     ]
    }
   ],
   "source": [
    "# Split\n",
    "\n",
    "v1 = 'welcome to python'\n",
    "\n",
    "print(v1)\n",
    "\n",
    "print('-----------------------------------------------------------')\n",
    "\n",
    "print(v1.split(' '))\n",
    "\n",
    "print('-----------------------------------------------------------')\n",
    "\n",
    "studentNames = 'Sara, Lara, Ram, Sam, Thara'\n",
    "\n",
    "print(studentNames.split(','))"
   ]
  },
  {
   "cell_type": "code",
   "execution_count": 32,
   "id": "4a6d2de6-e57b-4848-8b72-046af01c9473",
   "metadata": {},
   "outputs": [
    {
     "name": "stdout",
     "output_type": "stream",
     "text": [
      " A paragraph is a self-contained section of writing that focuses on a single topic or idea, \n",
      " typically consisting of several sentences. It helps to organize and structure longer pieces of writing, \n",
      " making them easier for readers to understand by clearly dividing the author's thoughts and arguments.\n",
      "---------------------------------------------------------\n",
      "A paragraph is a self-contained section of writing that focuses on a single topic or idea,\n",
      "typically consisting of several sentences. It helps to organize and structure longer pieces of writing, \n",
      "making them easier for readers to understand by clearly dividing the author's thoughts and arguments.\n",
      "---------------------------------------------------------\n",
      "['A paragraph is a self-contained section of writing that focuses on a single topic or idea,', 'typically consisting of several sentences. It helps to organize and structure longer pieces of writing, ', \"making them easier for readers to understand by clearly dividing the author's thoughts and arguments.\"]\n",
      "-----------------------------------------------------------\n",
      "['A paragraph is a self-contained section of writing that focuses on a single topic or idea,', 'typically consisting of several sentences. It helps to organize and structure longer pieces of writing, ', \"making them easier for readers to understand by clearly dividing the author's thoughts and arguments.\"] <class 'list'>\n",
      "-----------------------------------------------------------\n",
      "Line 01 :  A paragraph is a self-contained section of writing that focuses on a single topic or idea,\n"
     ]
    }
   ],
   "source": [
    "# Split Lines\n",
    "\n",
    "para = \" A paragraph is a self-contained section of writing that focuses on a single topic or idea, \\n typically consisting of several sentences. It helps to organize and structure longer pieces of writing, \\n making them easier for readers to understand by clearly dividing the author's thoughts and arguments.\"\n",
    "\n",
    "print(para)\n",
    "\n",
    "print('---------------------------------------------------------')\n",
    "\n",
    "para = '''A paragraph is a self-contained section of writing that focuses on a single topic or idea,\n",
    "typically consisting of several sentences. It helps to organize and structure longer pieces of writing, \n",
    "making them easier for readers to understand by clearly dividing the author's thoughts and arguments.'''\n",
    "\n",
    "print(para)\n",
    "\n",
    "print('---------------------------------------------------------')\n",
    "\n",
    "print(para.splitlines())\n",
    "\n",
    "print('-----------------------------------------------------------')\n",
    "\n",
    "paraVariable = para.splitlines()\n",
    "\n",
    "print(paraVariable, type(paraVariable))\n",
    "\n",
    "print('-----------------------------------------------------------')\n",
    "\n",
    "print('Line 01 : ', paraVariable[0])"
   ]
  },
  {
   "cell_type": "markdown",
   "id": "11fd3b3c-0145-4151-b8c0-e849c9599a22",
   "metadata": {},
   "source": [
    "Join:\n",
    "-----"
   ]
  },
  {
   "cell_type": "code",
   "execution_count": 10,
   "id": "7551b186-2e45-4e5c-a81b-62ba290a8596",
   "metadata": {},
   "outputs": [
    {
     "name": "stdout",
     "output_type": "stream",
     "text": [
      "['Sara', 'Lara', 'Thara'] <class 'list'>\n",
      "----------------------------------\n",
      "Sara:Lara:Thara\n",
      "Sara,Lara,Thara\n",
      "Sara-Lara-Thara\n",
      "----------------------------------\n",
      "['18', '07', '1999'] <class 'list'>\n",
      "18:07:1999\n"
     ]
    }
   ],
   "source": [
    "names = ['Sara', 'Lara', 'Thara']\n",
    "\n",
    "print(names, type(names))\n",
    "\n",
    "print('----------------------------------')\n",
    "\n",
    "print(':'.join(names))\n",
    "\n",
    "print(','.join(names))\n",
    "\n",
    "print('-'.join(names))\n",
    "\n",
    "print('----------------------------------')\n",
    "\n",
    "a = '18/07/1999'\n",
    "\n",
    "b = a.split('/')\n",
    "\n",
    "print(b, type(b))\n",
    "\n",
    "print(':'.join(b))"
   ]
  },
  {
   "cell_type": "markdown",
   "id": "3e1b254c-b275-4f7b-b931-cd91a2e965a0",
   "metadata": {},
   "source": [
    "String Functions:\n",
    "-----------------"
   ]
  },
  {
   "cell_type": "code",
   "execution_count": 20,
   "id": "b7f8da77-03a2-42af-aad6-8e75c9eb5528",
   "metadata": {},
   "outputs": [
    {
     "name": "stdout",
     "output_type": "stream",
     "text": [
      "      admin         -  18\n",
      "----------------------------------------------------\n",
      "admin         -  12\n",
      "      admin  -  11\n",
      "admin  -  5\n",
      "-----------------------------------------------------\n",
      "####admin***  -  12\n",
      "----------------------------------------------------\n",
      "admin***  -  8\n",
      "####admin  -  9\n",
      "admin***  -  8\n",
      "----------------------------------------------------\n",
      "admin  -  5\n"
     ]
    }
   ],
   "source": [
    "a = '      admin       '\n",
    "\n",
    "print(a, ' - ' ,len(a))\n",
    "\n",
    "print('----------------------------------------------------')\n",
    "\n",
    "print(a.lstrip(), ' - ' ,len(a.lstrip()))\n",
    "\n",
    "print(a.rstrip(), ' - ' ,len(a.rstrip()))\n",
    "\n",
    "print(a.strip(), ' - ' ,len(a.strip()))\n",
    "\n",
    "print('-----------------------------------------------------')\n",
    "\n",
    "a = '####admin***'\n",
    "\n",
    "print(a, ' - ' ,len(a))\n",
    "\n",
    "print('----------------------------------------------------')\n",
    "\n",
    "print(a.lstrip('#'), ' - ' ,len(a.lstrip('#')))\n",
    "\n",
    "print(a.rstrip('*'), ' - ' ,len(a.rstrip('*')))\n",
    "\n",
    "print(a.strip('#'), ' - ' ,len(a.strip('#')))\n",
    "\n",
    "print('----------------------------------------------------')\n",
    "\n",
    "a = '####admin###'\n",
    "\n",
    "print(a.strip('#'), ' - ' ,len(a.strip('#')))"
   ]
  },
  {
   "cell_type": "code",
   "execution_count": null,
   "id": "f94788fe-14aa-4267-a530-42e785bc9157",
   "metadata": {},
   "outputs": [],
   "source": []
  }
 ],
 "metadata": {
  "kernelspec": {
   "display_name": "Python 3 (ipykernel)",
   "language": "python",
   "name": "python3"
  },
  "language_info": {
   "codemirror_mode": {
    "name": "ipython",
    "version": 3
   },
   "file_extension": ".py",
   "mimetype": "text/x-python",
   "name": "python",
   "nbconvert_exporter": "python",
   "pygments_lexer": "ipython3",
   "version": "3.13.2"
  }
 },
 "nbformat": 4,
 "nbformat_minor": 5
}
