{
 "cells": [
  {
   "cell_type": "markdown",
   "id": "9e3dd5c8-851b-46c1-be7a-7bebdb406f5c",
   "metadata": {},
   "source": [
    "Python Operators:\n",
    "-----------------\n",
    "\n",
    "1. Arthmatic Operators\n",
    "2. Arithmatic Assingment Operators\n",
    "3. Relational or Camparision Operators\n",
    "4. Logical Operators\n",
    "5. Membership Operators\n",
    "6. Identity Operators\n",
    "7. Bitwise Operators"
   ]
  },
  {
   "cell_type": "markdown",
   "id": "c6227250-9a24-4f87-af5b-9551d39d219a",
   "metadata": {},
   "source": [
    "# 1. Arthmatic Operators:\n",
    "-------------------------\n",
    "\n",
    "(+, -, *, /, //, **, %)"
   ]
  },
  {
   "cell_type": "code",
   "execution_count": 6,
   "id": "1fad7006-851c-4d92-9c66-88208a44fb3c",
   "metadata": {},
   "outputs": [
    {
     "name": "stdout",
     "output_type": "stream",
     "text": [
      "Addition :  12\n",
      "Subtraction :  8\n",
      "Multiplication :  20\n",
      "Division :  5.0\n",
      "Floor Division :  5\n",
      "Modulas :  0\n",
      "Modulas :  1\n",
      "Division :  3.5\n",
      "Exponentiation :  100\n",
      "Exponentiation :  1000\n"
     ]
    }
   ],
   "source": [
    "print('Addition : ', 10 + 2)\n",
    "\n",
    "print('Subtraction : ', 10 - 2)\n",
    "\n",
    "print('Multiplication : ', 10 * 2)\n",
    "\n",
    "print('Division : ', 10 / 2)\n",
    "\n",
    "print('Floor Division : ', 10 // 2)\n",
    "\n",
    "print('Modulas : ', 10 % 2)\n",
    "\n",
    "print('Modulas : ', 7 % 2)\n",
    "\n",
    "print('Division : ', 7 / 2)\n",
    "\n",
    "print('Exponentiation : ', 10 ** 2) # 10 * 10 = 100\n",
    "\n",
    "print('Exponentiation : ', 10 ** 3) # 10 * 10 * 10 = 1000"
   ]
  },
  {
   "cell_type": "markdown",
   "id": "7e0b212b-8078-4ab4-a93b-ee3833a72145",
   "metadata": {},
   "source": [
    "# 2. Arithmatic Assingment Operators:\n",
    "-------------------------------------\n",
    "\n",
    "(+=, -=, *=, /=, //=, **=, %=)"
   ]
  },
  {
   "cell_type": "code",
   "execution_count": 11,
   "id": "ba1e4bc4-b493-4608-957e-bd8721f119ec",
   "metadata": {},
   "outputs": [
    {
     "name": "stdout",
     "output_type": "stream",
     "text": [
      "10\n",
      "11\n",
      "9\n"
     ]
    }
   ],
   "source": [
    "# Assignment Operators\n",
    "\n",
    "a = 10\n",
    "\n",
    "print(a)\n",
    "\n",
    "# Arithmatic Assingment Operators:\n",
    "\n",
    "a += 1 # a = a + 1 --> a = 10 + 1\n",
    "\n",
    "print(a)\n",
    "\n",
    "a -= 2 # a = a - 2 --> a = 11 - 2\n",
    "\n",
    "print(a)"
   ]
  },
  {
   "cell_type": "markdown",
   "id": "06621649-cb75-4526-8fa4-a1f2bbf534a5",
   "metadata": {},
   "source": [
    "# 3. Relational or Camparision Operators:\n",
    "-----------------------------------------\n",
    "\n",
    "(>, >=, <, <=, ==, !=)"
   ]
  },
  {
   "cell_type": "code",
   "execution_count": 26,
   "id": "19e0f221-260e-438b-841b-e699bfa47dab",
   "metadata": {},
   "outputs": [
    {
     "name": "stdout",
     "output_type": "stream",
     "text": [
      "True\n",
      "False\n",
      "True\n",
      "False\n",
      "False\n",
      "True\n",
      "False\n",
      "True\n",
      "False\n"
     ]
    }
   ],
   "source": [
    "a = 10\n",
    "b = 5\n",
    "\n",
    "print(a > b) # 10 > 5\n",
    "\n",
    "print(a > 10) # 10 > 10\n",
    "\n",
    "print(a >= 10) # 10 >= 10\n",
    "\n",
    "print(a < b) # 10 < 5\n",
    "\n",
    "print(a < 10) # 10 < 10\n",
    "\n",
    "print(a <= 10) # 10 <= 10\n",
    "\n",
    "print(a == b) # 10 == 5\n",
    "\n",
    "print(a != b) # 10 != 5\n",
    "\n",
    "print(a != 10) # 10 != 10"
   ]
  },
  {
   "cell_type": "markdown",
   "id": "b4adcac7-e620-4bdf-8e9b-91afc336f3bf",
   "metadata": {},
   "source": [
    "Conditional Statements:\n",
    "-----------------------\n",
    "\n",
    "    if, if else, if elif else"
   ]
  },
  {
   "cell_type": "code",
   "execution_count": 31,
   "id": "83aafc97-e594-4e9e-bb9b-e7c6469ccdf6",
   "metadata": {},
   "outputs": [
    {
     "name": "stdout",
     "output_type": "stream",
     "text": [
      "No :  10  >  20\n"
     ]
    }
   ],
   "source": [
    "a = 10\n",
    "b = 20\n",
    "\n",
    "if (a > b):\n",
    "    print('Yes : ', a , ' > ', b)\n",
    "else:\n",
    "    print('No : ', a , ' > ', b)"
   ]
  },
  {
   "cell_type": "code",
   "execution_count": null,
   "id": "00ad67c3-290a-41f7-85d8-2d0808b8ceb6",
   "metadata": {},
   "outputs": [],
   "source": []
  }
 ],
 "metadata": {
  "kernelspec": {
   "display_name": "Python 3 (ipykernel)",
   "language": "python",
   "name": "python3"
  },
  "language_info": {
   "codemirror_mode": {
    "name": "ipython",
    "version": 3
   },
   "file_extension": ".py",
   "mimetype": "text/x-python",
   "name": "python",
   "nbconvert_exporter": "python",
   "pygments_lexer": "ipython3",
   "version": "3.13.2"
  }
 },
 "nbformat": 4,
 "nbformat_minor": 5
}
