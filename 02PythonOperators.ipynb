{
 "cells": [
  {
   "cell_type": "markdown",
   "id": "9e3dd5c8-851b-46c1-be7a-7bebdb406f5c",
   "metadata": {},
   "source": [
    "Python Operators:\n",
    "-----------------\n",
    "\n",
    "1. Arthmatic Operators\n",
    "2. Arithmatic Assingment Operators\n",
    "3. Relational or Camparision Operators\n",
    "4. Logical Operators\n",
    "5. Membership Operators\n",
    "6. Identity Operators\n",
    "7. Bitwise Operators"
   ]
  },
  {
   "cell_type": "markdown",
   "id": "c6227250-9a24-4f87-af5b-9551d39d219a",
   "metadata": {},
   "source": [
    "# 1. Arthmatic Operators:\n",
    "-------------------------\n",
    "\n",
    "(+, -, *, /, //, **, %)"
   ]
  },
  {
   "cell_type": "code",
   "execution_count": 6,
   "id": "1fad7006-851c-4d92-9c66-88208a44fb3c",
   "metadata": {},
   "outputs": [
    {
     "name": "stdout",
     "output_type": "stream",
     "text": [
      "Addition :  12\n",
      "Subtraction :  8\n",
      "Multiplication :  20\n",
      "Division :  5.0\n",
      "Floor Division :  5\n",
      "Modulas :  0\n",
      "Modulas :  1\n",
      "Division :  3.5\n",
      "Exponentiation :  100\n",
      "Exponentiation :  1000\n"
     ]
    }
   ],
   "source": [
    "print('Addition : ', 10 + 2)\n",
    "\n",
    "print('Subtraction : ', 10 - 2)\n",
    "\n",
    "print('Multiplication : ', 10 * 2)\n",
    "\n",
    "print('Division : ', 10 / 2)\n",
    "\n",
    "print('Floor Division : ', 10 // 2)\n",
    "\n",
    "print('Modulas : ', 10 % 2)\n",
    "\n",
    "print('Modulas : ', 7 % 2)\n",
    "\n",
    "print('Division : ', 7 / 2)\n",
    "\n",
    "print('Exponentiation : ', 10 ** 2) # 10 * 10 = 100\n",
    "\n",
    "print('Exponentiation : ', 10 ** 3) # 10 * 10 * 10 = 1000"
   ]
  },
  {
   "cell_type": "markdown",
   "id": "7e0b212b-8078-4ab4-a93b-ee3833a72145",
   "metadata": {},
   "source": [
    "# 2. Arithmatic Assingment Operators:\n",
    "-------------------------------------\n",
    "\n",
    "(+=, -=, *=, /=, //=, **=, %=)"
   ]
  },
  {
   "cell_type": "code",
   "execution_count": 11,
   "id": "ba1e4bc4-b493-4608-957e-bd8721f119ec",
   "metadata": {},
   "outputs": [
    {
     "name": "stdout",
     "output_type": "stream",
     "text": [
      "10\n",
      "11\n",
      "9\n"
     ]
    }
   ],
   "source": [
    "# Assignment Operators\n",
    "\n",
    "a = 10\n",
    "\n",
    "print(a)\n",
    "\n",
    "# Arithmatic Assingment Operators:\n",
    "\n",
    "a += 1 # a = a + 1 --> a = 10 + 1\n",
    "\n",
    "print(a)\n",
    "\n",
    "a -= 2 # a = a - 2 --> a = 11 - 2\n",
    "\n",
    "print(a)"
   ]
  },
  {
   "cell_type": "markdown",
   "id": "06621649-cb75-4526-8fa4-a1f2bbf534a5",
   "metadata": {},
   "source": [
    "# 3. Relational or Camparision Operators:\n",
    "-----------------------------------------\n",
    "\n",
    "(>, >=, <, <=, ==, !=)"
   ]
  },
  {
   "cell_type": "code",
   "execution_count": 26,
   "id": "19e0f221-260e-438b-841b-e699bfa47dab",
   "metadata": {},
   "outputs": [
    {
     "name": "stdout",
     "output_type": "stream",
     "text": [
      "True\n",
      "False\n",
      "True\n",
      "False\n",
      "False\n",
      "True\n",
      "False\n",
      "True\n",
      "False\n"
     ]
    }
   ],
   "source": [
    "a = 10\n",
    "b = 5\n",
    "\n",
    "print(a > b) # 10 > 5\n",
    "\n",
    "print(a > 10) # 10 > 10\n",
    "\n",
    "print(a >= 10) # 10 >= 10\n",
    "\n",
    "print(a < b) # 10 < 5\n",
    "\n",
    "print(a < 10) # 10 < 10\n",
    "\n",
    "print(a <= 10) # 10 <= 10\n",
    "\n",
    "print(a == b) # 10 == 5\n",
    "\n",
    "print(a != b) # 10 != 5\n",
    "\n",
    "print(a != 10) # 10 != 10"
   ]
  },
  {
   "cell_type": "markdown",
   "id": "b4adcac7-e620-4bdf-8e9b-91afc336f3bf",
   "metadata": {},
   "source": [
    "Conditional Statements:\n",
    "-----------------------\n",
    "\n",
    "    if, if else, if elif else"
   ]
  },
  {
   "cell_type": "code",
   "execution_count": 31,
   "id": "83aafc97-e594-4e9e-bb9b-e7c6469ccdf6",
   "metadata": {},
   "outputs": [
    {
     "name": "stdout",
     "output_type": "stream",
     "text": [
      "No :  10  >  20\n"
     ]
    }
   ],
   "source": [
    "a = 10\n",
    "b = 20\n",
    "\n",
    "if (a > b):\n",
    "    print('Yes : ', a , ' > ', b)\n",
    "else:\n",
    "    print('No : ', a , ' > ', b)"
   ]
  },
  {
   "cell_type": "markdown",
   "id": "4db860c6-67dd-4ee6-ad6b-528d8cb686d4",
   "metadata": {},
   "source": [
    "# 4. Logical Operators:\n",
    "-----------------------\n",
    "\n",
    "(and, or, not)"
   ]
  },
  {
   "cell_type": "code",
   "execution_count": 5,
   "id": "1aea2841-fa00-4ad5-93ae-5ffd9142f557",
   "metadata": {},
   "outputs": [
    {
     "name": "stdout",
     "output_type": "stream",
     "text": [
      "True\n",
      "-------------------------------------------------------------------------------------\n",
      "Login Successfully!...\n"
     ]
    }
   ],
   "source": [
    "# and - Any One Condition have False. Then everything is False\n",
    "\n",
    "userName = 'admin'\n",
    "password = 'admin@123'\n",
    "\n",
    "print(((userName == 'admin') and (password == 'admin@123')))\n",
    "\n",
    "print('-------------------------------------------------------------------------------------')\n",
    "\n",
    "if ((userName == 'admin') and (password == 'admin@123')):\n",
    "    print('Login Successfully!...')\n",
    "else:\n",
    "    print('User Name OR Password Invalid!...')"
   ]
  },
  {
   "cell_type": "code",
   "execution_count": 8,
   "id": "06a633bc-5ed1-4cc4-940f-477932eaff2e",
   "metadata": {},
   "outputs": [
    {
     "name": "stdout",
     "output_type": "stream",
     "text": [
      "True\n",
      "-------------------------------------------------------------------------------------\n",
      "Login Successfully!...\n"
     ]
    }
   ],
   "source": [
    "# or - Any One Condition have True. Then everything is True\n",
    "\n",
    "userName = 'Sam'\n",
    "password = 'admin@123'\n",
    "\n",
    "print(((userName == 'admin') or (password == 'admin@123')))\n",
    "\n",
    "print('-------------------------------------------------------------------------------------')\n",
    "\n",
    "if ((userName == 'admin') or (password == 'admin@123')):\n",
    "    print('Login Successfully!...')\n",
    "else:\n",
    "    print('User Name OR Password Invalid!...')"
   ]
  },
  {
   "cell_type": "code",
   "execution_count": 18,
   "id": "7f058f3f-a1c4-431d-9d59-69f6941f2a0c",
   "metadata": {},
   "outputs": [
    {
     "name": "stdout",
     "output_type": "stream",
     "text": [
      "False\n",
      "True\n",
      "------------------------------------------------\n",
      "False\n",
      "True\n",
      "-------------------------------------------------------------------------------------\n",
      "Your User name and Password is Valid - Login Successfully!...\n"
     ]
    }
   ],
   "source": [
    "# not \n",
    "'''\n",
    "1. The Conditions have True. Then It will return False\n",
    "2. The Conditions have False. Then It will return True\n",
    "'''\n",
    "print(not(True))\n",
    "print(not(False))\n",
    "print('------------------------------------------------')\n",
    "\n",
    "userName = 'admin'\n",
    "password = 'admin@123'\n",
    "\n",
    "print(not((userName == 'admin') or (password == 'admin@123')))\n",
    "print((userName == 'admin') and  (password == 'admin@123'))\n",
    "\n",
    "print('-------------------------------------------------------------------------------------')\n",
    "\n",
    "if not((userName == 'admin') or (password == 'admin@123')):\n",
    "    print('Login Successfully!...')\n",
    "elif (userName == 'admin') and  (password == 'admin@123'):\n",
    "    print('Your User name and Password is Valid - Login Successfully!...')\n",
    "else:\n",
    "    print('User Name OR Password Invalid!...')"
   ]
  },
  {
   "cell_type": "markdown",
   "id": "633ca9c1-f69b-4c62-9e37-3e47f2e6e740",
   "metadata": {},
   "source": [
    "# 5. Membership Operators:\n",
    "--------------------------\n",
    "(in, not in)"
   ]
  },
  {
   "cell_type": "code",
   "execution_count": 22,
   "id": "94aa7db4-89c8-451e-8484-362c29398417",
   "metadata": {},
   "outputs": [
    {
     "name": "stdout",
     "output_type": "stream",
     "text": [
      "Sara <class 'str'>\n",
      "---------------------------------------------------------------------\n",
      "['Sara', 'Thara', 'Lara', 'Sam', 'Ram'] <class 'list'>\n",
      "True\n",
      "False\n"
     ]
    }
   ],
   "source": [
    "name = 'Sara'\n",
    "\n",
    "print(name, type(name))\n",
    "\n",
    "print('---------------------------------------------------------------------')\n",
    "\n",
    "names = ['Sara', 'Thara', 'Lara', 'Sam', 'Ram']\n",
    "\n",
    "print(names, type(names))\n",
    "\n",
    "print('Sara' in names)\n",
    "\n",
    "print('Sara' not in names)"
   ]
  },
  {
   "cell_type": "markdown",
   "id": "d3361f61-87c8-4a96-86aa-90a8dd728911",
   "metadata": {},
   "source": [
    "# 6. Identity Operators:\n",
    "------------------------\n",
    "\n",
    "(is, is not)"
   ]
  },
  {
   "cell_type": "code",
   "execution_count": 29,
   "id": "c02065a5-b56a-4acf-9bed-e15a6386330a",
   "metadata": {},
   "outputs": [
    {
     "name": "stdout",
     "output_type": "stream",
     "text": [
      "140735741109448\n",
      "140735741109448\n",
      "True\n",
      "False\n"
     ]
    }
   ],
   "source": [
    "a = 10\n",
    "b = 10\n",
    "\n",
    "print(id(a))\n",
    "\n",
    "print(id(b))\n",
    "\n",
    "print(a is b)\n",
    "\n",
    "print(a is not b)"
   ]
  },
  {
   "cell_type": "markdown",
   "id": "7dd7fba2-ca1d-4bb9-a742-221e648f133f",
   "metadata": {},
   "source": [
    "# 7. Bitwise Operators:\n",
    "-----------------------\n",
    "\n",
    "1. Bitwise And - &\n",
    "2. Bitwise Or - |\n",
    "3. Betwise XOR - ^\n",
    "4. Betwise Not - ~\n",
    "5. Left Shift Operators - <<\n",
    "6. Right Shift Operators - >>"
   ]
  },
  {
   "cell_type": "code",
   "execution_count": 30,
   "id": "d9ec6e80-dbb2-4df5-8d7c-6848c89d10b4",
   "metadata": {},
   "outputs": [
    {
     "name": "stdout",
     "output_type": "stream",
     "text": [
      "2\n"
     ]
    }
   ],
   "source": [
    "# Bitwise And - &\n",
    "'''\n",
    "a = 10 = 1010\n",
    "b = 2  = 0010\n",
    "--------------\n",
    "       = 0010\n",
    "--------------\n",
    "\n",
    "0 = False\n",
    "1 = True\n",
    "Bitwise And = Any One Condition have False. Then everything is False\n",
    "'''\n",
    "\n",
    "a = 10\n",
    "b = 2\n",
    "\n",
    "print(a & b)"
   ]
  },
  {
   "cell_type": "code",
   "execution_count": 31,
   "id": "5201d538-289a-48f2-bf6b-50b2f53b596d",
   "metadata": {},
   "outputs": [
    {
     "name": "stdout",
     "output_type": "stream",
     "text": [
      "10\n"
     ]
    }
   ],
   "source": [
    "# Bitwise Or - |\n",
    "'''\n",
    "a = 10 = 1010\n",
    "b = 2  = 0010\n",
    "--------------\n",
    "       = 1010\n",
    "--------------\n",
    "\n",
    "0 = False\n",
    "1 = True\n",
    "Bitwise Or = Any One Condition have True. Then everything is True\n",
    "'''\n",
    "\n",
    "a = 10\n",
    "b = 2\n",
    "\n",
    "print(a | b)"
   ]
  },
  {
   "cell_type": "code",
   "execution_count": 32,
   "id": "0b689b99-588a-4153-9cfe-0b1c9a60993d",
   "metadata": {},
   "outputs": [
    {
     "name": "stdout",
     "output_type": "stream",
     "text": [
      "8\n"
     ]
    }
   ],
   "source": [
    "# Betwise XOR - ^\n",
    "'''\n",
    "a = 10 = 1010\n",
    "b = 2  = 0010\n",
    "--------------\n",
    "       = 1000\n",
    "--------------\n",
    "\n",
    "0 = False\n",
    "1 = True\n",
    "Bitwise Or = 1. Any Two Conditions have True. Then It will be return False, 2. Any One Condition have True. Then everything is True\n",
    "'''\n",
    "\n",
    "a = 10\n",
    "b = 2\n",
    "\n",
    "print(a ^ b)"
   ]
  },
  {
   "cell_type": "code",
   "execution_count": 34,
   "id": "5bbf7fe9-8d33-4158-b920-ee04f0840951",
   "metadata": {},
   "outputs": [
    {
     "name": "stdout",
     "output_type": "stream",
     "text": [
      "10\n",
      "-11\n"
     ]
    }
   ],
   "source": [
    "# Betwise Not - ~\n",
    "'''\n",
    "a = 10\n",
    "\n",
    "~a = -(a + 1) = - (10 + 1) = -11\n",
    "'''\n",
    "a = 10\n",
    "\n",
    "print(a)\n",
    "\n",
    "print(~a)"
   ]
  },
  {
   "cell_type": "code",
   "execution_count": 39,
   "id": "67a3e9d3-448f-48cc-b673-2e1bfab8b5f2",
   "metadata": {},
   "outputs": [
    {
     "name": "stdout",
     "output_type": "stream",
     "text": [
      "40\n",
      "80\n"
     ]
    }
   ],
   "source": [
    "# Left Shift Operators - <<\n",
    "\n",
    "'''\n",
    "a = 10\n",
    "\n",
    "a << 2 = a * (2 * 2) = 10 * (2 * 2) = 10 (4) = 40\n",
    "a << 3 = a * (2 * 2 * 2) = 10 * (2 * 2 * 2) = 10 (8) = 80\n",
    "'''\n",
    "\n",
    "a = 10\n",
    "\n",
    "print(a << 2)\n",
    "print(a << 3)"
   ]
  },
  {
   "cell_type": "code",
   "execution_count": 40,
   "id": "cb97ff95-b268-4d4e-9383-97741d7c0a27",
   "metadata": {},
   "outputs": [
    {
     "name": "stdout",
     "output_type": "stream",
     "text": [
      "2\n",
      "1\n"
     ]
    }
   ],
   "source": [
    "# Right Shift Operators - >>\n",
    "\n",
    "'''\n",
    "a = 10\n",
    "\n",
    "a >> 2 = a / (2 * 2) = 10 / (2 * 2) = 10 / (4) = 40\n",
    "a >> 3 = a / (2 * 2 * 2) = 10 / (2 * 2 * 2) = 10 / (8) = 80\n",
    "'''\n",
    "\n",
    "a = 10\n",
    "\n",
    "print(a >> 2)\n",
    "print(a >> 3)"
   ]
  },
  {
   "cell_type": "code",
   "execution_count": null,
   "id": "86f915ee-c26d-4b42-b674-b3700611fcd3",
   "metadata": {},
   "outputs": [],
   "source": []
  }
 ],
 "metadata": {
  "kernelspec": {
   "display_name": "Python 3 (ipykernel)",
   "language": "python",
   "name": "python3"
  },
  "language_info": {
   "codemirror_mode": {
    "name": "ipython",
    "version": 3
   },
   "file_extension": ".py",
   "mimetype": "text/x-python",
   "name": "python",
   "nbconvert_exporter": "python",
   "pygments_lexer": "ipython3",
   "version": "3.13.2"
  }
 },
 "nbformat": 4,
 "nbformat_minor": 5
}
