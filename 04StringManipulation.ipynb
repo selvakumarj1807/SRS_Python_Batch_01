{
 "cells": [
  {
   "cell_type": "markdown",
   "id": "ddccb78a-1a39-473a-b61a-c8b8cfcc0a4b",
   "metadata": {},
   "source": [
    "String Manipulation:\n",
    "--------------------"
   ]
  },
  {
   "cell_type": "code",
   "execution_count": 8,
   "id": "363585e7-a5a1-4905-9f4a-fe6c57892b2a",
   "metadata": {},
   "outputs": [
    {
     "name": "stdout",
     "output_type": "stream",
     "text": [
      "Hi welcome  Pthon <class 'str'>\n"
     ]
    }
   ],
   "source": [
    "welcome = 'Hi welcome  Pthon'\n",
    "\n",
    "print(welcome, type(welcome))"
   ]
  },
  {
   "cell_type": "code",
   "execution_count": 14,
   "id": "95a4a8a7-cd95-42c7-8a97-184281aa135c",
   "metadata": {},
   "outputs": [
    {
     "name": "stdout",
     "output_type": "stream",
     "text": [
      "Hi welcome Python\n",
      "welcome\n",
      "Hi\n",
      "Python\n",
      "Hi welcome\n"
     ]
    }
   ],
   "source": [
    "# welcome[Starting index Position : Ending index Position + 1]\n",
    "\n",
    "welcome = 'Hi welcome Python'\n",
    "\n",
    "print(welcome)\n",
    "\n",
    "print(welcome[3:10]) \n",
    "\n",
    "print(welcome[0:2])\n",
    "\n",
    "print(welcome[11:])\n",
    "\n",
    "print(welcome[:10])"
   ]
  },
  {
   "cell_type": "code",
   "execution_count": null,
   "id": "70442d56-8e6c-4767-abbb-cc47ddb89cf7",
   "metadata": {},
   "outputs": [],
   "source": []
  }
 ],
 "metadata": {
  "kernelspec": {
   "display_name": "Python 3 (ipykernel)",
   "language": "python",
   "name": "python3"
  },
  "language_info": {
   "codemirror_mode": {
    "name": "ipython",
    "version": 3
   },
   "file_extension": ".py",
   "mimetype": "text/x-python",
   "name": "python",
   "nbconvert_exporter": "python",
   "pygments_lexer": "ipython3",
   "version": "3.13.2"
  }
 },
 "nbformat": 4,
 "nbformat_minor": 5
}
