{
 "cells": [
  {
   "cell_type": "markdown",
   "id": "38691dae-e42b-4332-8e1e-c4cf3da7dc24",
   "metadata": {},
   "source": [
    "Python Basics:\n",
    "--------------"
   ]
  },
  {
   "cell_type": "code",
   "execution_count": 1,
   "id": "e9145642-01b9-450a-89dc-d5dd35238405",
   "metadata": {},
   "outputs": [
    {
     "name": "stdout",
     "output_type": "stream",
     "text": [
      "Welcom Jupyter\n"
     ]
    }
   ],
   "source": [
    "print('Welcom Jupyter')"
   ]
  },
  {
   "cell_type": "code",
   "execution_count": 1,
   "id": "d1e22c04-bc03-4f3b-91c4-62431d693321",
   "metadata": {},
   "outputs": [
    {
     "name": "stdout",
     "output_type": "stream",
     "text": [
      "Comment Section Hide Successfully!..\n"
     ]
    }
   ],
   "source": [
    "# Single Line Comment\n",
    "\n",
    "'''\n",
    "Multi\n",
    "Line\n",
    "Comments\n",
    "'''\n",
    "\n",
    "print('Comment Section Hide Successfully!..')"
   ]
  },
  {
   "cell_type": "markdown",
   "id": "0401a30d-82ac-4caf-aeaa-9bbcf9e69588",
   "metadata": {},
   "source": [
    "Data type  & Variables:\n",
    "-----------------------"
   ]
  },
  {
   "cell_type": "code",
   "execution_count": 4,
   "id": "76944681-6fed-41c1-8543-af5160994b8b",
   "metadata": {},
   "outputs": [
    {
     "name": "stdout",
     "output_type": "stream",
     "text": [
      "12\n",
      "8\n",
      "------------------------------------------\n",
      "12\n",
      "8\n"
     ]
    }
   ],
   "source": [
    "# Variable\n",
    "\n",
    "print(10 + 2)\n",
    "\n",
    "print(10 - 2)\n",
    "\n",
    "print('------------------------------------------')\n",
    "\n",
    "a = 10\n",
    "b = 2\n",
    "\n",
    "add = a + b \n",
    "\n",
    "print(add)\n",
    "\n",
    "print(a - b)"
   ]
  },
  {
   "cell_type": "markdown",
   "id": "11b3e969-5871-4b01-a321-68245a402406",
   "metadata": {},
   "source": [
    "Concatination Opretor:\n",
    "----------------------"
   ]
  },
  {
   "cell_type": "code",
   "execution_count": 9,
   "id": "b30fa02e-5d51-4690-94ad-90b9f0bbcd38",
   "metadata": {},
   "outputs": [
    {
     "name": "stdout",
     "output_type": "stream",
     "text": [
      "12\n",
      "8\n",
      "------------------------------------------\n",
      "10  +  2  =  12\n",
      "10  -  2  =  8\n"
     ]
    }
   ],
   "source": [
    "# Variable\n",
    "\n",
    "print(10 + 2)\n",
    "\n",
    "print(10 - 2)\n",
    "\n",
    "print('------------------------------------------')\n",
    "\n",
    "a = 10\n",
    "b = 2\n",
    "\n",
    "add = a + b \n",
    "\n",
    "print(a, ' + ', b, ' = ', add) # 10 + 2 = 12\n",
    "\n",
    "print(a, ' - ', b, ' = ', a - b) # 10 - 2 = 8"
   ]
  },
  {
   "cell_type": "markdown",
   "id": "643f2f08-7b88-4fb8-be0d-db3928bfa797",
   "metadata": {},
   "source": [
    "Python Inputs:\n",
    "--------------"
   ]
  },
  {
   "cell_type": "code",
   "execution_count": 12,
   "id": "457cfc77-ade7-43bf-a356-e8a4acad0974",
   "metadata": {},
   "outputs": [
    {
     "name": "stdin",
     "output_type": "stream",
     "text": [
      "Enter Value 01:  20\n",
      "Enter Value 02:  4\n"
     ]
    },
    {
     "name": "stdout",
     "output_type": "stream",
     "text": [
      "20  +  4  =  24\n",
      "20  -  4  =  16\n"
     ]
    }
   ],
   "source": [
    "a = int(input('Enter Value 01: '))\n",
    "b = int(input('Enter Value 02: '))\n",
    "\n",
    "add = a + b \n",
    "\n",
    "print(a, ' + ', b, ' = ', add) # 10 + 2 = 12\n",
    "\n",
    "print(a, ' - ', b, ' = ', a - b) # 10 - 2 = 8"
   ]
  },
  {
   "cell_type": "code",
   "execution_count": 14,
   "id": "93c47e30-b4f3-4897-b9ae-9efd20b4f34f",
   "metadata": {},
   "outputs": [
    {
     "name": "stdin",
     "output_type": "stream",
     "text": [
      "Enter your name :  Selva\n",
      "Enter your age :  26\n"
     ]
    },
    {
     "name": "stdout",
     "output_type": "stream",
     "text": [
      "Selva  your age is  26\n",
      "Yours Birth Year :  1999\n"
     ]
    }
   ],
   "source": [
    "name = input('Enter your name : ')\n",
    "age = int(input('Enter your age : '))\n",
    "\n",
    "print(name, ' your age is ', age)\n",
    "\n",
    "DOB_Year = 2025 - age\n",
    "\n",
    "print('Yours Birth Year : ', DOB_Year)"
   ]
  },
  {
   "cell_type": "code",
   "execution_count": null,
   "id": "c1a855e5-1568-460f-b5f9-2453dab6143b",
   "metadata": {},
   "outputs": [],
   "source": [
    "'''\n",
    "ToDay Task:\n",
    "-----------\n",
    "\n",
    "How To Write the Python Code For Below Output.\n",
    "\n",
    "10  +  2  =  12\n",
    "10  -  2  =  8\n",
    "10  *  2  =  20\n",
    "10  /  2  =  5\n",
    "\n",
    "'''"
   ]
  },
  {
   "cell_type": "code",
   "execution_count": 17,
   "id": "f28a3937-d1b5-4404-8b83-dfe032107792",
   "metadata": {},
   "outputs": [
    {
     "name": "stdout",
     "output_type": "stream",
     "text": [
      "Sara <class 'str'>\n",
      "26 <class 'int'>\n",
      "90.5 <class 'float'>\n",
      "True <class 'bool'>\n"
     ]
    }
   ],
   "source": [
    "# Data Type\n",
    "# String - Collection of Alphabet Values or Special Charecter Values\n",
    "# integer - 0 to 9\n",
    "# float - Decinal Values\n",
    "# boolean - True, False\n",
    "\n",
    "name = 'Sara' \n",
    "\n",
    "age = 26\n",
    "\n",
    "avg = 90.5 \n",
    "\n",
    "married = True \n",
    "\n",
    "print(name, type(name))\n",
    "\n",
    "print(age, type(age))\n",
    "\n",
    "print(avg, type(avg))\n",
    "\n",
    "print(married, type(married))"
   ]
  },
  {
   "cell_type": "code",
   "execution_count": null,
   "id": "f9f549d0-ebd7-4424-8c96-733bfa1273e3",
   "metadata": {},
   "outputs": [],
   "source": []
  }
 ],
 "metadata": {
  "kernelspec": {
   "display_name": "Python 3 (ipykernel)",
   "language": "python",
   "name": "python3"
  },
  "language_info": {
   "codemirror_mode": {
    "name": "ipython",
    "version": 3
   },
   "file_extension": ".py",
   "mimetype": "text/x-python",
   "name": "python",
   "nbconvert_exporter": "python",
   "pygments_lexer": "ipython3",
   "version": "3.13.2"
  }
 },
 "nbformat": 4,
 "nbformat_minor": 5
}
