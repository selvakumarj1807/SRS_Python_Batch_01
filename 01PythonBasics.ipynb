{
 "cells": [
  {
   "cell_type": "markdown",
   "id": "38691dae-e42b-4332-8e1e-c4cf3da7dc24",
   "metadata": {},
   "source": [
    "Python Basics:\n",
    "--------------"
   ]
  },
  {
   "cell_type": "code",
   "execution_count": 1,
   "id": "e9145642-01b9-450a-89dc-d5dd35238405",
   "metadata": {},
   "outputs": [
    {
     "name": "stdout",
     "output_type": "stream",
     "text": [
      "Welcom Jupyter\n"
     ]
    }
   ],
   "source": [
    "print('Welcom Jupyter')"
   ]
  },
  {
   "cell_type": "code",
   "execution_count": null,
   "id": "31f5d0eb-af3e-4ddc-9300-24b4ccbb906d",
   "metadata": {},
   "outputs": [],
   "source": []
  }
 ],
 "metadata": {
  "kernelspec": {
   "display_name": "Python 3 (ipykernel)",
   "language": "python",
   "name": "python3"
  },
  "language_info": {
   "codemirror_mode": {
    "name": "ipython",
    "version": 3
   },
   "file_extension": ".py",
   "mimetype": "text/x-python",
   "name": "python",
   "nbconvert_exporter": "python",
   "pygments_lexer": "ipython3",
   "version": "3.13.2"
  }
 },
 "nbformat": 4,
 "nbformat_minor": 5
}
