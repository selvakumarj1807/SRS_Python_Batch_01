{
 "cells": [
  {
   "cell_type": "markdown",
   "id": "36957f98-d326-4200-9c0a-d38c83b6d96b",
   "metadata": {},
   "source": [
    "What is NumPy?\n",
    "--------------\n",
    "1. NumPy stands for Numerical Python.\n",
    "2. NumPy is a Python library used for working with arrays.\n",
    "3. It also has functions for working in domain of linear algebra, fourier transform, and matrices.\n",
    "\n",
    "Why Use NumPy?\n",
    "--------------\n",
    "\n",
    "1. In Python we have lists that serve the purpose of arrays, but they are slow to process.\n",
    "2. NumPy aims to provide an array object that is up to 50x faster than traditional Python lists.\n",
    "3. The array object in NumPy is called ndarray\n",
    "\n",
    "Why is NumPy Faster Than Lists?\n",
    "-------------------------------\n",
    "NumPy arrays are stored at one continuous place in memory unlike lists, so processes can access and manipulate them very efficiently."
   ]
  },
  {
   "cell_type": "code",
   "execution_count": null,
   "id": "6b478633-da42-4cb9-9633-8f771e1f1ba6",
   "metadata": {},
   "outputs": [],
   "source": [
    "pip install numpy"
   ]
  },
  {
   "cell_type": "code",
   "execution_count": 1,
   "id": "b844a1e7-a4da-48c6-a218-95fa6d1cfe34",
   "metadata": {},
   "outputs": [],
   "source": [
    "import numpy"
   ]
  },
  {
   "cell_type": "code",
   "execution_count": 2,
   "id": "4f917a18-0a26-4ea1-8cb1-d5bfa2857959",
   "metadata": {},
   "outputs": [
    {
     "name": "stdout",
     "output_type": "stream",
     "text": [
      "[10, 20, 30, 40] <class 'list'>\n",
      "----------------------------------------------------------------------\n",
      "[10 20 30 40] <class 'numpy.ndarray'>\n"
     ]
    }
   ],
   "source": [
    "# Convert List to Single Dimention Array\n",
    "\n",
    "list01 = [10, 20, 30, 40]\n",
    "\n",
    "print(list01, type(list01))\n",
    "\n",
    "print('----------------------------------------------------------------------')\n",
    "\n",
    "numpyList01 = numpy.array(list01)\n",
    "\n",
    "print(numpyList01, type(numpyList01))"
   ]
  },
  {
   "cell_type": "code",
   "execution_count": 3,
   "id": "07fcc700-3672-42d3-9e92-381691514695",
   "metadata": {},
   "outputs": [
    {
     "name": "stdout",
     "output_type": "stream",
     "text": [
      "[[10, 20], [30, 40]] <class 'list'>\n",
      "----------------------------------------------------------------------\n",
      "[[10 20]\n",
      " [30 40]] <class 'numpy.ndarray'>\n"
     ]
    }
   ],
   "source": [
    "# Convert List to Two Dimention Array\n",
    "\n",
    "list01 = [[10, 20], [30, 40]]\n",
    "\n",
    "print(list01, type(list01))\n",
    "\n",
    "print('----------------------------------------------------------------------')\n",
    "\n",
    "numpyList01 = numpy.array(list01)\n",
    "\n",
    "print(numpyList01, type(numpyList01))"
   ]
  },
  {
   "cell_type": "code",
   "execution_count": 4,
   "id": "083ab4a4-8989-49b5-ace1-df570c64d585",
   "metadata": {},
   "outputs": [
    {
     "name": "stdout",
     "output_type": "stream",
     "text": [
      "[[10, 20], [30, 40], [50, 60]] <class 'list'>\n",
      "----------------------------------------------------------------------\n",
      "[[10 20]\n",
      " [30 40]\n",
      " [50 60]] <class 'numpy.ndarray'>\n"
     ]
    }
   ],
   "source": [
    "# Convert List to Multi Dimention Array\n",
    "\n",
    "list01 = [[10, 20], [30, 40], [50, 60]]\n",
    "\n",
    "print(list01, type(list01))\n",
    "\n",
    "print('----------------------------------------------------------------------')\n",
    "\n",
    "numpyList01 = numpy.array(list01)\n",
    "\n",
    "print(numpyList01, type(numpyList01))"
   ]
  },
  {
   "cell_type": "markdown",
   "id": "111e456b-3b9c-4163-becd-05477f50638a",
   "metadata": {},
   "source": [
    "Arange :\n",
    "--------\n",
    "Return evenly spaced values within a given interval."
   ]
  },
  {
   "cell_type": "code",
   "execution_count": 5,
   "id": "6e155b10-d351-4f11-9b9c-f93eff078809",
   "metadata": {},
   "outputs": [],
   "source": [
    "import numpy as np"
   ]
  },
  {
   "cell_type": "code",
   "execution_count": 6,
   "id": "b436da32-ef79-44cd-bd32-5d1d791b2f2a",
   "metadata": {},
   "outputs": [
    {
     "name": "stdout",
     "output_type": "stream",
     "text": [
      "[0 1 2 3 4 5 6 7 8 9] <class 'numpy.ndarray'>\n"
     ]
    }
   ],
   "source": [
    "a = np.arange(0,10)\n",
    "\n",
    "print(a, type(a))"
   ]
  },
  {
   "cell_type": "code",
   "execution_count": 7,
   "id": "c7ad98b7-d18d-4f16-a90a-e5c874ab0846",
   "metadata": {},
   "outputs": [
    {
     "name": "stdout",
     "output_type": "stream",
     "text": [
      "[1 2 3 4 5 6 7 8 9] <class 'numpy.ndarray'>\n"
     ]
    }
   ],
   "source": [
    "a = np.arange(1,10)\n",
    "\n",
    "print(a, type(a))"
   ]
  },
  {
   "cell_type": "code",
   "execution_count": 8,
   "id": "8e99a380-661e-4688-b51c-bfb01905f1ff",
   "metadata": {},
   "outputs": [
    {
     "name": "stdout",
     "output_type": "stream",
     "text": [
      "[1 3 5 7 9] <class 'numpy.ndarray'>\n",
      "[0 2 4 6 8] <class 'numpy.ndarray'>\n"
     ]
    }
   ],
   "source": [
    "a = np.arange(1,10,2)\n",
    "b = np.arange(0,10,2)\n",
    "\n",
    "print(a, type(a))\n",
    "print(b, type(b))"
   ]
  },
  {
   "cell_type": "code",
   "execution_count": 9,
   "id": "305c6af6-f025-4179-b575-76f4085547ba",
   "metadata": {},
   "outputs": [
    {
     "name": "stdout",
     "output_type": "stream",
     "text": [
      "[10  9  8  7  6  5  4  3  2  1] <class 'numpy.ndarray'>\n"
     ]
    }
   ],
   "source": [
    "a = np.arange(10, 0, -1)\n",
    "\n",
    "print(a, type(a))"
   ]
  },
  {
   "cell_type": "markdown",
   "id": "44cc07c9-e4ae-4d65-ac38-572f1d2b138e",
   "metadata": {},
   "source": [
    "Linspace :\n",
    "----------\n",
    "Return evenly spaced numbers over a specified interval."
   ]
  },
  {
   "cell_type": "code",
   "execution_count": 10,
   "id": "be669b87-e81c-4e88-9f0a-e06c7128b1e8",
   "metadata": {},
   "outputs": [
    {
     "data": {
      "text/plain": [
       "array([0, 3, 6, 9])"
      ]
     },
     "execution_count": 10,
     "metadata": {},
     "output_type": "execute_result"
    }
   ],
   "source": [
    "np.arange(0,10,3)"
   ]
  },
  {
   "cell_type": "code",
   "execution_count": 11,
   "id": "c698f60e-a5d2-408f-98ed-9841069ec64b",
   "metadata": {},
   "outputs": [
    {
     "data": {
      "text/plain": [
       "array([ 0.,  5., 10.])"
      ]
     },
     "execution_count": 11,
     "metadata": {},
     "output_type": "execute_result"
    }
   ],
   "source": [
    "np.linspace(0,10,3)"
   ]
  },
  {
   "cell_type": "code",
   "execution_count": 12,
   "id": "4b93b2d3-93c1-45e1-8cbd-aec33eeaa08c",
   "metadata": {},
   "outputs": [
    {
     "name": "stdout",
     "output_type": "stream",
     "text": [
      "[ 0 12 25 37 50]\n"
     ]
    }
   ],
   "source": [
    "a = np.linspace(0,50,5, dtype=int,)\n",
    "\n",
    "print(a)"
   ]
  },
  {
   "cell_type": "markdown",
   "id": "f338bb24-4886-4a7e-a6c4-87f80ed291e0",
   "metadata": {},
   "source": [
    "Random :\n",
    "--------\n",
    "Numpy also has lots of ways to create random number arrays:"
   ]
  },
  {
   "cell_type": "code",
   "execution_count": 16,
   "id": "9c2ff3ed-4a1f-41db-b866-7306e8813848",
   "metadata": {},
   "outputs": [
    {
     "data": {
      "text/plain": [
       "98"
      ]
     },
     "execution_count": 16,
     "metadata": {},
     "output_type": "execute_result"
    }
   ],
   "source": [
    "np.random.randint(1,100)"
   ]
  },
  {
   "cell_type": "code",
   "execution_count": 18,
   "id": "52c7ac2f-fc78-4645-9649-81a6b7d2fdb5",
   "metadata": {},
   "outputs": [
    {
     "name": "stdout",
     "output_type": "stream",
     "text": [
      "[16 67 37 66 69 55 77 10 93 75]\n"
     ]
    }
   ],
   "source": [
    "a = np.random.randint(1,100,10)\n",
    "\n",
    "print(a)"
   ]
  },
  {
   "cell_type": "markdown",
   "id": "622bb249-ffb8-4e40-85ad-835deb57f63b",
   "metadata": {},
   "source": [
    "Array Attributes and Methods\n",
    "----------------------------"
   ]
  },
  {
   "cell_type": "code",
   "execution_count": 19,
   "id": "76da1443-d403-4268-9110-22166c3edf49",
   "metadata": {},
   "outputs": [
    {
     "name": "stdout",
     "output_type": "stream",
     "text": [
      "[ 0  1  2  3  4  5  6  7  8  9 10 11 12 13 14 15 16 17 18 19 20 21 22 23\n",
      " 24]\n",
      "-----------------------------------------------\n",
      "[44 37 20 11 15 34 24 15 13]\n"
     ]
    }
   ],
   "source": [
    "arr = np.arange(25)\n",
    "\n",
    "randarr = np.random.randint(0,50,9)\n",
    "\n",
    "print(arr)\n",
    "\n",
    "print('-----------------------------------------------')\n",
    "\n",
    "print(randarr)"
   ]
  },
  {
   "cell_type": "markdown",
   "id": "33e2e9d8-2cbe-4885-acb9-526b40f01bce",
   "metadata": {},
   "source": [
    "01 Reshape :\n",
    "------------\n",
    "    \n",
    "Returns an array containing the same data with a new shape."
   ]
  },
  {
   "cell_type": "code",
   "execution_count": 20,
   "id": "ee4adbe8-08eb-4387-9e6a-6954ad24b464",
   "metadata": {},
   "outputs": [
    {
     "data": {
      "text/plain": [
       "array([[ 0,  1,  2,  3,  4],\n",
       "       [ 5,  6,  7,  8,  9],\n",
       "       [10, 11, 12, 13, 14],\n",
       "       [15, 16, 17, 18, 19],\n",
       "       [20, 21, 22, 23, 24]])"
      ]
     },
     "execution_count": 20,
     "metadata": {},
     "output_type": "execute_result"
    }
   ],
   "source": [
    "arr.reshape(5,5)"
   ]
  },
  {
   "cell_type": "code",
   "execution_count": 21,
   "id": "8dc811f5-ed62-4425-af90-f4c4e6ab5ef8",
   "metadata": {},
   "outputs": [
    {
     "data": {
      "text/plain": [
       "array([[44, 37, 20],\n",
       "       [11, 15, 34],\n",
       "       [24, 15, 13]], dtype=int32)"
      ]
     },
     "execution_count": 21,
     "metadata": {},
     "output_type": "execute_result"
    }
   ],
   "source": [
    "randarr.reshape(3, 3)"
   ]
  },
  {
   "cell_type": "code",
   "execution_count": null,
   "id": "07a66024-6d87-4819-a07b-92b4cf783fba",
   "metadata": {},
   "outputs": [],
   "source": []
  }
 ],
 "metadata": {
  "kernelspec": {
   "display_name": "Python 3 (ipykernel)",
   "language": "python",
   "name": "python3"
  },
  "language_info": {
   "codemirror_mode": {
    "name": "ipython",
    "version": 3
   },
   "file_extension": ".py",
   "mimetype": "text/x-python",
   "name": "python",
   "nbconvert_exporter": "python",
   "pygments_lexer": "ipython3",
   "version": "3.13.2"
  }
 },
 "nbformat": 4,
 "nbformat_minor": 5
}
