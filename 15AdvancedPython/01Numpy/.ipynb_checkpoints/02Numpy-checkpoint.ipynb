{
 "cells": [
  {
   "cell_type": "markdown",
   "id": "ed0e55d8-316a-42bc-aff7-2099b18afd98",
   "metadata": {},
   "source": [
    "max,min,argmax,argmin\n",
    "---------------------\n",
    "\n",
    "These are useful methods for finding max or min values. Or to find their index locations using argmin or argmax"
   ]
  },
  {
   "cell_type": "code",
   "execution_count": 2,
   "id": "8201a41f-1a60-432e-9157-04e83e083fda",
   "metadata": {},
   "outputs": [],
   "source": [
    "import numpy"
   ]
  },
  {
   "cell_type": "code",
   "execution_count": 3,
   "id": "f2162973-83a6-4597-8849-6526f777499f",
   "metadata": {},
   "outputs": [
    {
     "name": "stdout",
     "output_type": "stream",
     "text": [
      "[23 10 16  8  9 48 27  7  9  6]\n"
     ]
    }
   ],
   "source": [
    "ranarr = numpy.random.randint(0,50,10)\n",
    "\n",
    "print(ranarr)"
   ]
  },
  {
   "cell_type": "code",
   "execution_count": 4,
   "id": "0f04926d-9c84-4f6e-a167-60b0149ed1d8",
   "metadata": {},
   "outputs": [
    {
     "name": "stdout",
     "output_type": "stream",
     "text": [
      "48\n"
     ]
    }
   ],
   "source": [
    "# To find the Maximum value \n",
    "\n",
    "print(ranarr.max())"
   ]
  },
  {
   "cell_type": "code",
   "execution_count": 5,
   "id": "218fc0bb-9061-4084-8d16-63f7d64f7aad",
   "metadata": {},
   "outputs": [
    {
     "name": "stdout",
     "output_type": "stream",
     "text": [
      "6\n"
     ]
    }
   ],
   "source": [
    "# To find the Minimum value \n",
    "\n",
    "minValue = ranarr.min()\n",
    "\n",
    "print(minValue)"
   ]
  },
  {
   "cell_type": "code",
   "execution_count": 6,
   "id": "163f7cdc-70ed-4acf-a4b2-f6a7f871e8d4",
   "metadata": {},
   "outputs": [
    {
     "name": "stdout",
     "output_type": "stream",
     "text": [
      "5\n"
     ]
    }
   ],
   "source": [
    "# To find the Maximum value position\n",
    "\n",
    "print(ranarr.argmax())"
   ]
  },
  {
   "cell_type": "code",
   "execution_count": 7,
   "id": "c983211b-d57c-4014-927b-f3b5e7d05f63",
   "metadata": {},
   "outputs": [
    {
     "name": "stdout",
     "output_type": "stream",
     "text": [
      "9\n"
     ]
    }
   ],
   "source": [
    "# To find the Minimum value position\n",
    "\n",
    "print(ranarr.argmin())"
   ]
  },
  {
   "cell_type": "markdown",
   "id": "bf92bf31-3e96-4ef3-91c7-b762eb05e893",
   "metadata": {},
   "source": [
    "NumPy Indexing and Selection :\n",
    "------------------------------"
   ]
  },
  {
   "cell_type": "code",
   "execution_count": 8,
   "id": "5ca39fb1-74f8-476d-b2d4-9756016a48b0",
   "metadata": {},
   "outputs": [
    {
     "name": "stdout",
     "output_type": "stream",
     "text": [
      "[ 10  20  30  40  50  60  70  80  90 100]\n"
     ]
    }
   ],
   "source": [
    "#Creating sample array\n",
    "\n",
    "arr = numpy.array([10,20,30,40,50,60,70,80,90,100])\n",
    "\n",
    "print(arr)"
   ]
  },
  {
   "cell_type": "code",
   "execution_count": 9,
   "id": "d1308e88-dae3-4203-a907-c3ad37a39e21",
   "metadata": {},
   "outputs": [
    {
     "name": "stdout",
     "output_type": "stream",
     "text": [
      "90\n"
     ]
    }
   ],
   "source": [
    "#Get a value at an index\n",
    "\n",
    "print(arr[8])"
   ]
  },
  {
   "cell_type": "code",
   "execution_count": 10,
   "id": "a02a1f55-b778-47fa-a4df-fb253c559ec3",
   "metadata": {},
   "outputs": [
    {
     "data": {
      "text/plain": [
       "array([20, 30, 40, 50])"
      ]
     },
     "execution_count": 10,
     "metadata": {},
     "output_type": "execute_result"
    }
   ],
   "source": [
    "#Get values in a range\n",
    "\n",
    "arr[1:5]"
   ]
  },
  {
   "cell_type": "code",
   "execution_count": 11,
   "id": "7aa8899d-3ac6-48aa-9d44-04492df21d25",
   "metadata": {},
   "outputs": [
    {
     "data": {
      "text/plain": [
       "array([200, 200, 200, 200, 200,  60,  70,  80,  90, 100])"
      ]
     },
     "execution_count": 11,
     "metadata": {},
     "output_type": "execute_result"
    }
   ],
   "source": [
    "#Setting a value with index range (Broadcasting)\n",
    "\n",
    "arr[0:5] = 200\n",
    "\n",
    "#Show\n",
    "arr"
   ]
  },
  {
   "cell_type": "markdown",
   "id": "d774d176-b959-41b3-8453-721bb1a59a43",
   "metadata": {},
   "source": [
    "Indexing and slicing a multi Dimention array (matrices) :\n",
    "---------------------------------------------------------\n",
    "\n",
    "The general format is arr_2d[row][col] or arr_2d[row,col]. I recommend usually using the comma notation for clarity."
   ]
  },
  {
   "cell_type": "code",
   "execution_count": 12,
   "id": "2bba72a9-cdc2-4431-acaa-935aefbb140a",
   "metadata": {},
   "outputs": [
    {
     "data": {
      "text/plain": [
       "array([[ 5, 10, 15],\n",
       "       [20, 25, 30],\n",
       "       [35, 40, 45]])"
      ]
     },
     "execution_count": 12,
     "metadata": {},
     "output_type": "execute_result"
    }
   ],
   "source": [
    "arr_2d = numpy.array(([5,10,15],[20,25,30],[35,40,45]))\n",
    "\n",
    "#Show\n",
    "arr_2d"
   ]
  },
  {
   "cell_type": "code",
   "execution_count": 13,
   "id": "57c30846-7fa6-47d9-8353-38454700cf4e",
   "metadata": {},
   "outputs": [
    {
     "data": {
      "text/plain": [
       "array([20, 25, 30])"
      ]
     },
     "execution_count": 13,
     "metadata": {},
     "output_type": "execute_result"
    }
   ],
   "source": [
    "#Indexing row\n",
    "\n",
    "arr_2d[1]"
   ]
  },
  {
   "cell_type": "code",
   "execution_count": 14,
   "id": "b4f7fd73-bc12-4dfb-a976-c6f416c9bf55",
   "metadata": {},
   "outputs": [
    {
     "name": "stdout",
     "output_type": "stream",
     "text": [
      "[ 5 20 35]\n"
     ]
    }
   ],
   "source": [
    "#Indexing Column\n",
    "\n",
    "print(arr_2d[0:3,0])"
   ]
  },
  {
   "cell_type": "code",
   "execution_count": 15,
   "id": "bf19211f-3f3d-4d45-adfd-ed3d339b871d",
   "metadata": {},
   "outputs": [
    {
     "name": "stdout",
     "output_type": "stream",
     "text": [
      "10\n"
     ]
    }
   ],
   "source": [
    "# Get a Single value\n",
    "\n",
    "print(arr_2d[0][1])"
   ]
  },
  {
   "cell_type": "markdown",
   "id": "6acf1f7b-eebe-4c55-9356-83fa0b445923",
   "metadata": {},
   "source": [
    "Broadcasting :\n",
    "--------------\n",
    "\n",
    "The term broadcasting describes how NumPy treats arrays with different shapes during arithmetic operations."
   ]
  },
  {
   "cell_type": "code",
   "execution_count": 16,
   "id": "bbc384fb-b5ff-449f-84bb-0156173e0594",
   "metadata": {},
   "outputs": [
    {
     "name": "stdout",
     "output_type": "stream",
     "text": [
      "-----------------------------------------------\n",
      "[1 2 3 4]\n",
      "-----------------------------------------------\n",
      "[2 4 6 8]\n"
     ]
    }
   ],
   "source": [
    "# Creating a NumPy array\n",
    "arr = numpy.array([1, 2, 3, 4])\n",
    "\n",
    "print('-----------------------------------------------')\n",
    "\n",
    "print(arr)\n",
    "\n",
    "print('-----------------------------------------------')\n",
    "\n",
    "print(arr * 2)  # Output: [2 4 6 8]"
   ]
  },
  {
   "cell_type": "code",
   "execution_count": 18,
   "id": "98ea0a7b-d13d-402f-a18d-336c78c68a9a",
   "metadata": {},
   "outputs": [
    {
     "name": "stdout",
     "output_type": "stream",
     "text": [
      "[2 4 6]\n"
     ]
    }
   ],
   "source": [
    "arr1 = numpy.array([1, 2, 3])\n",
    "arr2 = numpy.array([1, 2, 3])\n",
    "\n",
    "# Broadcasting occurs here, aligning arr1 to match arr2's dimensions\n",
    "result = arr1 + arr2\n",
    "print(result)"
   ]
  },
  {
   "cell_type": "code",
   "execution_count": 20,
   "id": "7041d8f1-b845-4ed3-bd75-369f37c2130e",
   "metadata": {},
   "outputs": [
    {
     "name": "stdout",
     "output_type": "stream",
     "text": [
      "-----------------------------------------------\n",
      "[1 2 3]\n",
      "[[1]\n",
      " [2]\n",
      " [3]]\n",
      "-----------------------------------------------\n",
      "[[2 3 4]\n",
      " [3 4 5]\n",
      " [4 5 6]]\n"
     ]
    }
   ],
   "source": [
    "arr1 = numpy.array([1, 2, 3])\n",
    "arr2 = numpy.array([[1], [2], [3]])\n",
    "\n",
    "print('-----------------------------------------------')\n",
    "print(arr1)\n",
    "\n",
    "print(arr2)\n",
    "print('-----------------------------------------------')\n",
    "\n",
    "# Broadcasting occurs here, aligning arr1 to match arr2's dimensions\n",
    "result = arr1 + arr2\n",
    "print(result)"
   ]
  },
  {
   "cell_type": "code",
   "execution_count": 22,
   "id": "977b8c2c-8acc-4e84-9a6a-1d1b78a21831",
   "metadata": {},
   "outputs": [
    {
     "name": "stdout",
     "output_type": "stream",
     "text": [
      "-----------------------------------------------\n",
      "[[1 2]\n",
      " [3 4]\n",
      " [5 6]]\n",
      "-----------------------------------------------\n",
      "[ 9 12]\n",
      "-----------------------------------------------\n",
      "[ 3  7 11]\n"
     ]
    }
   ],
   "source": [
    "arr = numpy.array([[1, 2], [3, 4], [5, 6]])\n",
    "\n",
    "print('-----------------------------------------------')\n",
    "\n",
    "print(arr)\n",
    "\n",
    "print('-----------------------------------------------')\n",
    "\n",
    "print(numpy.sum(arr, axis=0))  # Sum along columns\n",
    "print('-----------------------------------------------')\n",
    "print(numpy.sum(arr, axis=1))  # Sum along rows"
   ]
  },
  {
   "cell_type": "markdown",
   "id": "63e6611a-5a33-4126-a1bb-2336b0a403e7",
   "metadata": {},
   "source": [
    "Selection\n",
    "------------\n",
    "Let's briefly go over how to use brackets for selection based off of comparison operators."
   ]
  },
  {
   "cell_type": "code",
   "execution_count": 23,
   "id": "b921aa6b-47ea-4388-8738-86de3102b1bd",
   "metadata": {},
   "outputs": [
    {
     "name": "stdout",
     "output_type": "stream",
     "text": [
      "[ 10  20  30  40  50  60  70  80  90 100]\n"
     ]
    }
   ],
   "source": [
    "arr = numpy.array([10,20,30,40,50,60,70,80,90,100])\n",
    "\n",
    "print(arr)"
   ]
  },
  {
   "cell_type": "code",
   "execution_count": 24,
   "id": "80c1ea98-3bff-4a54-b56d-14a1b4c55fda",
   "metadata": {},
   "outputs": [
    {
     "data": {
      "text/plain": [
       "array([False, False, False, False,  True,  True,  True,  True,  True,\n",
       "        True])"
      ]
     },
     "execution_count": 24,
     "metadata": {},
     "output_type": "execute_result"
    }
   ],
   "source": [
    "arr > 40"
   ]
  },
  {
   "cell_type": "code",
   "execution_count": 25,
   "id": "dc29a57e-2406-4016-b818-888878962e35",
   "metadata": {},
   "outputs": [
    {
     "name": "stdout",
     "output_type": "stream",
     "text": [
      "[False False False False  True  True  True  True  True  True]\n"
     ]
    }
   ],
   "source": [
    "bool_arr = arr > 40\n",
    "\n",
    "print(bool_arr)"
   ]
  },
  {
   "cell_type": "code",
   "execution_count": 26,
   "id": "569355c1-8c89-4e9d-83eb-59a86008ca99",
   "metadata": {},
   "outputs": [
    {
     "data": {
      "text/plain": [
       "array([ 50,  60,  70,  80,  90, 100])"
      ]
     },
     "execution_count": 26,
     "metadata": {},
     "output_type": "execute_result"
    }
   ],
   "source": [
    "arr[bool_arr]"
   ]
  },
  {
   "cell_type": "markdown",
   "id": "e8ca143f-2600-467a-870d-c28ae202787e",
   "metadata": {},
   "source": [
    "Python Numpy Read and Write Text Files:\n",
    "---------------------------------------"
   ]
  },
  {
   "cell_type": "code",
   "execution_count": 28,
   "id": "cd585829-9a3d-4a8f-904e-4aa35da64e92",
   "metadata": {},
   "outputs": [
    {
     "data": {
      "text/plain": [
       "array([[1, 2, 3],\n",
       "       [4, 5, 6],\n",
       "       [7, 8, 9]], dtype=int32)"
      ]
     },
     "execution_count": 28,
     "metadata": {},
     "output_type": "execute_result"
    }
   ],
   "source": [
    "x = numpy.array([[1,2,3], [4,5,6], [7,8,9]], numpy.int32)\n",
    "\n",
    "x"
   ]
  },
  {
   "cell_type": "code",
   "execution_count": 29,
   "id": "9c8a998d-74a7-4aaa-b0b6-7804965ccf10",
   "metadata": {},
   "outputs": [],
   "source": [
    "numpy.savetxt(\"test.txt\", x)"
   ]
  },
  {
   "cell_type": "code",
   "execution_count": 30,
   "id": "075f8b76-ec7f-4e6a-9eac-bd3e813817c2",
   "metadata": {},
   "outputs": [
    {
     "name": "stdout",
     "output_type": "stream",
     "text": [
      "[[1. 2. 3.]\n",
      " [4. 5. 6.]\n",
      " [7. 8. 9.]]\n"
     ]
    }
   ],
   "source": [
    "y = numpy.loadtxt('test.txt')\n",
    "\n",
    "print(y)"
   ]
  },
  {
   "cell_type": "code",
   "execution_count": null,
   "id": "3ff1db15-5ac3-45b4-b895-908bf526eb74",
   "metadata": {},
   "outputs": [],
   "source": []
  }
 ],
 "metadata": {
  "kernelspec": {
   "display_name": "Python 3 (ipykernel)",
   "language": "python",
   "name": "python3"
  },
  "language_info": {
   "codemirror_mode": {
    "name": "ipython",
    "version": 3
   },
   "file_extension": ".py",
   "mimetype": "text/x-python",
   "name": "python",
   "nbconvert_exporter": "python",
   "pygments_lexer": "ipython3",
   "version": "3.13.2"
  }
 },
 "nbformat": 4,
 "nbformat_minor": 5
}
