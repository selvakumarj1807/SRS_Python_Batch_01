{
 "cells": [
  {
   "cell_type": "markdown",
   "id": "407d0f59-4488-4439-92b5-613855806ea0",
   "metadata": {},
   "source": [
    "Abstraction and Encapsulation:\n",
    "------------------------------"
   ]
  },
  {
   "cell_type": "code",
   "execution_count": 7,
   "id": "55c666ef-ff9d-4e30-9c97-b29260ebf959",
   "metadata": {},
   "outputs": [],
   "source": [
    "class LibraryManagement:\n",
    "    def __init__(self, books):\n",
    "        self.books = books\n",
    "\n",
    "    def display(self):\n",
    "        print('Our Librari Books : ')\n",
    "        print('')\n",
    "\n",
    "        for i in self.books:\n",
    "            print(i)\n",
    "\n",
    "    def borrowBook(self, book):\n",
    "        if book in self.books:\n",
    "            print('Get your ', book, ' now!..')\n",
    "            self.books.remove(book)\n",
    "\n",
    "        else:\n",
    "            print(book, ' Not in your Library')\n",
    "\n",
    "    def reciveBook(self, book):\n",
    "        print(book, ' Book recived Successfully!..')\n",
    "        self.books.append(book)"
   ]
  },
  {
   "cell_type": "code",
   "execution_count": 8,
   "id": "fe8e6e83-6b84-450e-a0a1-ad3f0d8edd02",
   "metadata": {},
   "outputs": [
    {
     "name": "stdout",
     "output_type": "stream",
     "text": [
      "Library Management : \n",
      "---------------------\n",
      "\n",
      "1. Display Books\n",
      "2. Borrow Book\n",
      "3. Recieve Book\n",
      "\n"
     ]
    },
    {
     "name": "stdin",
     "output_type": "stream",
     "text": [
      "Enter your Choice : (1/2/3) :  1\n"
     ]
    },
    {
     "name": "stdout",
     "output_type": "stream",
     "text": [
      "Our Librari Books : \n",
      "\n",
      "C\n",
      "C++\n",
      "Java\n",
      "\n",
      "1. Display Books\n",
      "2. Borrow Book\n",
      "3. Recieve Book\n",
      "\n"
     ]
    },
    {
     "name": "stdin",
     "output_type": "stream",
     "text": [
      "Enter your Choice : (1/2/3) :  2\n",
      "Enter your Borrow book name :  Java\n"
     ]
    },
    {
     "name": "stdout",
     "output_type": "stream",
     "text": [
      "Get your  Java  now!..\n",
      "\n",
      "1. Display Books\n",
      "2. Borrow Book\n",
      "3. Recieve Book\n",
      "\n"
     ]
    },
    {
     "name": "stdin",
     "output_type": "stream",
     "text": [
      "Enter your Choice : (1/2/3) :  1\n"
     ]
    },
    {
     "name": "stdout",
     "output_type": "stream",
     "text": [
      "Our Librari Books : \n",
      "\n",
      "C\n",
      "C++\n",
      "\n",
      "1. Display Books\n",
      "2. Borrow Book\n",
      "3. Recieve Book\n",
      "\n"
     ]
    },
    {
     "name": "stdin",
     "output_type": "stream",
     "text": [
      "Enter your Choice : (1/2/3) :  3\n",
      "Enter your Recive book name :  Java\n"
     ]
    },
    {
     "name": "stdout",
     "output_type": "stream",
     "text": [
      "Java  Book recived Successfully!..\n",
      "\n",
      "1. Display Books\n",
      "2. Borrow Book\n",
      "3. Recieve Book\n",
      "\n"
     ]
    },
    {
     "name": "stdin",
     "output_type": "stream",
     "text": [
      "Enter your Choice : (1/2/3) :  1\n"
     ]
    },
    {
     "name": "stdout",
     "output_type": "stream",
     "text": [
      "Our Librari Books : \n",
      "\n",
      "C\n",
      "C++\n",
      "Java\n",
      "\n",
      "1. Display Books\n",
      "2. Borrow Book\n",
      "3. Recieve Book\n",
      "\n"
     ]
    },
    {
     "name": "stdin",
     "output_type": "stream",
     "text": [
      "Enter your Choice : (1/2/3) :  3\n",
      "Enter your Recive book name :  Python\n"
     ]
    },
    {
     "name": "stdout",
     "output_type": "stream",
     "text": [
      "Python  Book recived Successfully!..\n",
      "\n",
      "1. Display Books\n",
      "2. Borrow Book\n",
      "3. Recieve Book\n",
      "\n"
     ]
    },
    {
     "name": "stdin",
     "output_type": "stream",
     "text": [
      "Enter your Choice : (1/2/3) :  1\n"
     ]
    },
    {
     "name": "stdout",
     "output_type": "stream",
     "text": [
      "Our Librari Books : \n",
      "\n",
      "C\n",
      "C++\n",
      "Java\n",
      "Python\n",
      "\n",
      "1. Display Books\n",
      "2. Borrow Book\n",
      "3. Recieve Book\n",
      "\n"
     ]
    },
    {
     "name": "stdin",
     "output_type": "stream",
     "text": [
      "Enter your Choice : (1/2/3) :  4\n"
     ]
    },
    {
     "name": "stdout",
     "output_type": "stream",
     "text": [
      "Thank You Comeagain!..\n"
     ]
    }
   ],
   "source": [
    "print('Library Management : ')\n",
    "print('---------------------')\n",
    "\n",
    "msg = '''\n",
    "1. Display Books\n",
    "2. Borrow Book\n",
    "3. Recieve Book\n",
    "'''\n",
    "\n",
    "books = ['C', 'C++', 'Java']\n",
    "\n",
    "libraryObject01 = LibraryManagement(books)\n",
    "\n",
    "while True:\n",
    "    print(msg)\n",
    "\n",
    "    ch = int(input('Enter your Choice : (1/2/3) : '))\n",
    "\n",
    "    if ch == 1:\n",
    "        libraryObject01.display()\n",
    "\n",
    "    elif ch == 2:\n",
    "        book = input('Enter your Borrow book name : ')\n",
    "\n",
    "        libraryObject01.borrowBook(book)\n",
    "\n",
    "    elif ch == 3:\n",
    "        book = input('Enter your Recive book name : ')\n",
    "\n",
    "        libraryObject01.reciveBook(book)\n",
    "\n",
    "    else:\n",
    "        print('Thank You Comeagain!..')\n",
    "        break"
   ]
  },
  {
   "cell_type": "code",
   "execution_count": null,
   "id": "c4954ccb-ebb4-4a4d-9bb6-c21d6695677b",
   "metadata": {},
   "outputs": [
    {
     "name": "stdout",
     "output_type": "stream",
     "text": [
      "Library Management : \n",
      "---------------------\n",
      "\n",
      "1. Display Books\n",
      "2. Borrow Book\n",
      "3. Recieve Book\n",
      "\n"
     ]
    },
    {
     "name": "stdin",
     "output_type": "stream",
     "text": [
      "Enter your Choice : (1/2/3) :  1\n"
     ]
    },
    {
     "name": "stdout",
     "output_type": "stream",
     "text": [
      "Our Librari Books : \n",
      "\n",
      "Tamil\n",
      "English\n",
      "Maths\n",
      "Science\n",
      "Social Science\n",
      "\n",
      "1. Display Books\n",
      "2. Borrow Book\n",
      "3. Recieve Book\n",
      "\n"
     ]
    },
    {
     "name": "stdin",
     "output_type": "stream",
     "text": [
      "Enter your Choice : (1/2/3) :  2\n",
      "Enter your Borrow book name :  Tamil\n"
     ]
    },
    {
     "name": "stdout",
     "output_type": "stream",
     "text": [
      "Get your  Tamil  now!..\n",
      "\n",
      "1. Display Books\n",
      "2. Borrow Book\n",
      "3. Recieve Book\n",
      "\n"
     ]
    },
    {
     "name": "stdin",
     "output_type": "stream",
     "text": [
      "Enter your Choice : (1/2/3) :  1\n"
     ]
    },
    {
     "name": "stdout",
     "output_type": "stream",
     "text": [
      "Our Librari Books : \n",
      "\n",
      "English\n",
      "Maths\n",
      "Science\n",
      "Social Science\n",
      "\n",
      "1. Display Books\n",
      "2. Borrow Book\n",
      "3. Recieve Book\n",
      "\n"
     ]
    },
    {
     "name": "stdin",
     "output_type": "stream",
     "text": [
      "Enter your Choice : (1/2/3) :  3\n",
      "Enter your Recive book name :  Tamil\n"
     ]
    },
    {
     "name": "stdout",
     "output_type": "stream",
     "text": [
      "Tamil  Book recived Successfully!..\n",
      "\n",
      "1. Display Books\n",
      "2. Borrow Book\n",
      "3. Recieve Book\n",
      "\n"
     ]
    },
    {
     "name": "stdin",
     "output_type": "stream",
     "text": [
      "Enter your Choice : (1/2/3) :  1\n"
     ]
    },
    {
     "name": "stdout",
     "output_type": "stream",
     "text": [
      "Our Librari Books : \n",
      "\n",
      "English\n",
      "Maths\n",
      "Science\n",
      "Social Science\n",
      "Tamil\n",
      "\n",
      "1. Display Books\n",
      "2. Borrow Book\n",
      "3. Recieve Book\n",
      "\n"
     ]
    },
    {
     "name": "stdin",
     "output_type": "stream",
     "text": [
      "Enter your Choice : (1/2/3) :  3\n",
      "Enter your Recive book name :  PT\n"
     ]
    },
    {
     "name": "stdout",
     "output_type": "stream",
     "text": [
      "PT  Book recived Successfully!..\n",
      "\n",
      "1. Display Books\n",
      "2. Borrow Book\n",
      "3. Recieve Book\n",
      "\n"
     ]
    },
    {
     "name": "stdin",
     "output_type": "stream",
     "text": [
      "Enter your Choice : (1/2/3) :  1\n"
     ]
    },
    {
     "name": "stdout",
     "output_type": "stream",
     "text": [
      "Our Librari Books : \n",
      "\n",
      "English\n",
      "Maths\n",
      "Science\n",
      "Social Science\n",
      "Tamil\n",
      "PT\n",
      "\n",
      "1. Display Books\n",
      "2. Borrow Book\n",
      "3. Recieve Book\n",
      "\n"
     ]
    }
   ],
   "source": [
    "print('Library Management : ')\n",
    "print('---------------------')\n",
    "\n",
    "msg = '''\n",
    "1. Display Books\n",
    "2. Borrow Book\n",
    "3. Recieve Book\n",
    "'''\n",
    "\n",
    "books = ['Tamil', 'English', 'Maths', 'Science', 'Social Science']\n",
    "\n",
    "libraryObject02 = LibraryManagement(books)\n",
    "\n",
    "while True:\n",
    "    print(msg)\n",
    "\n",
    "    ch = int(input('Enter your Choice : (1/2/3) : '))\n",
    "\n",
    "    if ch == 1:\n",
    "        libraryObject02.display()\n",
    "\n",
    "    elif ch == 2:\n",
    "        book = input('Enter your Borrow book name : ')\n",
    "\n",
    "        libraryObject02.borrowBook(book)\n",
    "\n",
    "    elif ch == 3:\n",
    "        book = input('Enter your Recive book name : ')\n",
    "\n",
    "        libraryObject02.reciveBook(book)\n",
    "\n",
    "    else:\n",
    "        print('Thank You Comeagain!..')\n",
    "        break"
   ]
  },
  {
   "cell_type": "code",
   "execution_count": null,
   "id": "c2a574e6-d507-4527-8127-c5073c8d97a2",
   "metadata": {},
   "outputs": [],
   "source": []
  }
 ],
 "metadata": {
  "kernelspec": {
   "display_name": "Python 3 (ipykernel)",
   "language": "python",
   "name": "python3"
  },
  "language_info": {
   "codemirror_mode": {
    "name": "ipython",
    "version": 3
   },
   "file_extension": ".py",
   "mimetype": "text/x-python",
   "name": "python",
   "nbconvert_exporter": "python",
   "pygments_lexer": "ipython3",
   "version": "3.13.2"
  }
 },
 "nbformat": 4,
 "nbformat_minor": 5
}
