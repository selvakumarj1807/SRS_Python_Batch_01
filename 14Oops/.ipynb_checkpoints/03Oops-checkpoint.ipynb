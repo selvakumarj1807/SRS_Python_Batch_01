{
 "cells": [
  {
   "cell_type": "markdown",
   "id": "0de284cc-395f-4600-b773-60711769b86c",
   "metadata": {},
   "source": [
    "Inheritance:\n",
    "------------"
   ]
  },
  {
   "cell_type": "markdown",
   "id": "3bd647c7-f51c-4e5f-ad60-36f8b1e55f16",
   "metadata": {},
   "source": [
    "# 01. Single Inheritance\n",
    "------------------------"
   ]
  },
  {
   "cell_type": "code",
   "execution_count": 4,
   "id": "13e23d38-9228-4481-bc32-55dd4b122174",
   "metadata": {},
   "outputs": [],
   "source": [
    "class Father:\n",
    "    fatherName = 'Doss'\n",
    "\n",
    "    def playing(self):\n",
    "        print(self.fatherName, ' - Father have playing criket Skill')\n",
    "\n",
    "class Son(Father):\n",
    "    sonName = 'Mara'\n",
    "\n",
    "    def reading(self):\n",
    "        print(self.sonName, ' - Son have Reading Skill')"
   ]
  },
  {
   "cell_type": "code",
   "execution_count": 5,
   "id": "825fcd8e-ccd9-4b28-87a9-39abd0b8097f",
   "metadata": {},
   "outputs": [
    {
     "name": "stdout",
     "output_type": "stream",
     "text": [
      "Mara  - Son have Reading Skill\n",
      "Doss  - Father have playing criket Skill\n"
     ]
    }
   ],
   "source": [
    "object01 = Son()\n",
    "\n",
    "object01.reading()\n",
    "\n",
    "object01.playing()"
   ]
  },
  {
   "cell_type": "markdown",
   "id": "928a758b-1b1c-49b9-aa7f-2bee1e29666b",
   "metadata": {},
   "source": [
    "# 02. Multiple Inheritance\n",
    "--------------------------"
   ]
  },
  {
   "cell_type": "code",
   "execution_count": 9,
   "id": "beab222c-a950-4852-a1b1-003277181221",
   "metadata": {},
   "outputs": [],
   "source": [
    "class Father:\n",
    "    fatherName = 'Doss'\n",
    "\n",
    "    def playing(self):\n",
    "        print(self.fatherName, ' - Father have playing criket Skill')\n",
    "\n",
    "class Mother:\n",
    "    motherName = 'Sara'\n",
    "\n",
    "    def cooking(self):\n",
    "        print(self.motherName, ' - Mother have Cooking Skill')\n",
    "\n",
    "class Son(Father, Mother):\n",
    "    sonName = 'Mara'\n",
    "\n",
    "    def reading(self):\n",
    "        print(self.sonName, ' - Son have Reading Skill')"
   ]
  },
  {
   "cell_type": "code",
   "execution_count": 10,
   "id": "0d777496-de29-4396-ace5-2c9e95e7ce32",
   "metadata": {},
   "outputs": [
    {
     "name": "stdout",
     "output_type": "stream",
     "text": [
      "Mara  - Son have Reading Skill\n",
      "Doss  - Father have playing criket Skill\n",
      "Sara  - Mother have Cooking Skill\n"
     ]
    }
   ],
   "source": [
    "object01 = Son()\n",
    "\n",
    "object01.reading()\n",
    "\n",
    "object01.playing()\n",
    "\n",
    "object01.cooking()"
   ]
  },
  {
   "cell_type": "markdown",
   "id": "85b40a6e-c101-4803-ba00-c8fc20c09851",
   "metadata": {},
   "source": [
    "# 03. Multi Level Inheritance\n",
    "-----------------------------"
   ]
  },
  {
   "cell_type": "code",
   "execution_count": 13,
   "id": "2ac176e3-3758-435b-877e-956e0d18c2d3",
   "metadata": {},
   "outputs": [],
   "source": [
    "class Father:\n",
    "    fatherName = 'Doss'\n",
    "\n",
    "    def playing(self):\n",
    "        print(self.fatherName, ' - Father have playing criket Skill')\n",
    "\n",
    "class Mother(Father):\n",
    "    motherName = 'Sara'\n",
    "\n",
    "    def cooking(self):\n",
    "        print(self.motherName, ' - Mother have Cooking Skill')\n",
    "\n",
    "class Son(Mother):\n",
    "    sonName = 'Mara'\n",
    "\n",
    "    def reading(self):\n",
    "        print(self.sonName, ' - Son have Reading Skill')"
   ]
  },
  {
   "cell_type": "code",
   "execution_count": 14,
   "id": "dcacea85-c6f8-4d9d-8d42-766b490e5c33",
   "metadata": {},
   "outputs": [
    {
     "name": "stdout",
     "output_type": "stream",
     "text": [
      "Mara  - Son have Reading Skill\n",
      "Doss  - Father have playing criket Skill\n",
      "Sara  - Mother have Cooking Skill\n"
     ]
    }
   ],
   "source": [
    "object01 = Son()\n",
    "\n",
    "object01.reading()\n",
    "\n",
    "object01.playing()\n",
    "\n",
    "object01.cooking()"
   ]
  },
  {
   "cell_type": "code",
   "execution_count": null,
   "id": "0a8c6e8f-62b0-4312-86c0-13e5e37a90da",
   "metadata": {},
   "outputs": [],
   "source": []
  }
 ],
 "metadata": {
  "kernelspec": {
   "display_name": "Python 3 (ipykernel)",
   "language": "python",
   "name": "python3"
  },
  "language_info": {
   "codemirror_mode": {
    "name": "ipython",
    "version": 3
   },
   "file_extension": ".py",
   "mimetype": "text/x-python",
   "name": "python",
   "nbconvert_exporter": "python",
   "pygments_lexer": "ipython3",
   "version": "3.13.2"
  }
 },
 "nbformat": 4,
 "nbformat_minor": 5
}
