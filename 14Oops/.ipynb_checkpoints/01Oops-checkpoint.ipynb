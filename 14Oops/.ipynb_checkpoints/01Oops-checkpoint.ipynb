{
 "cells": [
  {
   "cell_type": "markdown",
   "id": "5596b289-0d6e-4018-a2e8-5d8e60cf71aa",
   "metadata": {},
   "source": [
    "Python Oops:\n",
    "------------"
   ]
  },
  {
   "cell_type": "markdown",
   "id": "faa26148-1329-47cb-890f-7be289dc99b6",
   "metadata": {},
   "source": [
    "Class\n",
    "-----"
   ]
  },
  {
   "cell_type": "code",
   "execution_count": 1,
   "id": "8a02c905-5e78-414e-bc8e-979f53a7e16c",
   "metadata": {},
   "outputs": [],
   "source": [
    "class Student:\n",
    "    name = 'Sara'\n",
    "    age = 25"
   ]
  },
  {
   "cell_type": "code",
   "execution_count": 4,
   "id": "86f40dab-1150-4e7b-9bb1-6064394b4a86",
   "metadata": {},
   "outputs": [
    {
     "name": "stdout",
     "output_type": "stream",
     "text": [
      "Sara\n",
      "25\n"
     ]
    }
   ],
   "source": [
    "print(Student.name)\n",
    "print(Student.age)"
   ]
  },
  {
   "cell_type": "markdown",
   "id": "47d7384b-9b7f-4e8b-b511-9406b113b468",
   "metadata": {},
   "source": [
    "Object\n",
    "------"
   ]
  },
  {
   "cell_type": "code",
   "execution_count": 15,
   "id": "9a4c6c98-6873-4597-a824-6d603c52e8e9",
   "metadata": {},
   "outputs": [],
   "source": [
    "class Student:\n",
    "    name = 'Student Name'\n",
    "    age = 0"
   ]
  },
  {
   "cell_type": "code",
   "execution_count": 16,
   "id": "59052b58-4c5b-439a-a349-708355fcc716",
   "metadata": {},
   "outputs": [
    {
     "name": "stdout",
     "output_type": "stream",
     "text": [
      "Student Name  your age is  0\n",
      "Sara  your age is  26\n"
     ]
    }
   ],
   "source": [
    "studObject01 = Student()\n",
    "\n",
    "print(studObject01.name, ' your age is ', studObject01.age)\n",
    "\n",
    "studObject01.name = 'Sara'\n",
    "studObject01.age = 26\n",
    "\n",
    "print(studObject01.name, ' your age is ', studObject01.age)"
   ]
  },
  {
   "cell_type": "code",
   "execution_count": 17,
   "id": "2de90138-0dc8-4e2f-928e-cf264bbdd6b6",
   "metadata": {},
   "outputs": [
    {
     "name": "stdout",
     "output_type": "stream",
     "text": [
      "Student Name  your age is  0\n",
      "Thara  your age is  22\n"
     ]
    }
   ],
   "source": [
    "studObject02 = Student()\n",
    "\n",
    "print(studObject02.name, ' your age is ', studObject02.age)\n",
    "\n",
    "studObject02.name = 'Thara'\n",
    "studObject02.age = 22\n",
    "\n",
    "print(studObject02.name, ' your age is ', studObject02.age)"
   ]
  },
  {
   "cell_type": "code",
   "execution_count": 18,
   "id": "7f300dca-84bf-4af3-bcdb-e97931abaead",
   "metadata": {},
   "outputs": [
    {
     "name": "stdout",
     "output_type": "stream",
     "text": [
      "Student Name  your age is  0\n",
      "Lara  your age is  23\n"
     ]
    }
   ],
   "source": [
    "studObject03 = Student()\n",
    "\n",
    "print(studObject03.name, ' your age is ', studObject03.age)\n",
    "\n",
    "studObject03.name = 'Lara'\n",
    "studObject03.age = 23\n",
    "\n",
    "print(studObject03.name, ' your age is ', studObject03.age)"
   ]
  },
  {
   "cell_type": "markdown",
   "id": "64f9dcfd-03fe-427a-8413-101415554c3a",
   "metadata": {},
   "source": [
    "# Class Function\n",
    "----------------"
   ]
  },
  {
   "cell_type": "code",
   "execution_count": 21,
   "id": "3f00f038-879d-4fe2-a29d-48a790880650",
   "metadata": {},
   "outputs": [],
   "source": [
    "class Student:\n",
    "    name = 'Sara'\n",
    "    age = 25\n",
    "\n",
    "    def display():\n",
    "        print(Student.name, ' your age is ', Student.age)"
   ]
  },
  {
   "cell_type": "code",
   "execution_count": 22,
   "id": "9fc6c849-a171-468f-bc90-8fbb76561087",
   "metadata": {},
   "outputs": [
    {
     "name": "stdout",
     "output_type": "stream",
     "text": [
      "Sara  your age is  25\n"
     ]
    }
   ],
   "source": [
    "# Call the class Function\n",
    "\n",
    "Student.display()"
   ]
  },
  {
   "cell_type": "markdown",
   "id": "4e49c69f-e38e-492f-8a61-08e10cffa112",
   "metadata": {},
   "source": [
    "Object's class Function\n",
    "-----------------------"
   ]
  },
  {
   "cell_type": "code",
   "execution_count": 28,
   "id": "7c94e663-489a-4df3-ac27-66d76fb39d95",
   "metadata": {},
   "outputs": [],
   "source": [
    "class Student:\n",
    "    name = 'Sara'\n",
    "    age = 25\n",
    "\n",
    "    def display(self):\n",
    "        print(self.name, ' your age is ', self.age)"
   ]
  },
  {
   "cell_type": "code",
   "execution_count": 29,
   "id": "12f5c1df-359c-42a8-8e2f-76a5e2918ef2",
   "metadata": {},
   "outputs": [
    {
     "name": "stdout",
     "output_type": "stream",
     "text": [
      "Sara  your age is  25\n",
      "Thara  your age is  22\n"
     ]
    }
   ],
   "source": [
    "# call the class function using object\n",
    "\n",
    "sObject01 = Student()\n",
    "\n",
    "sObject01.display()\n",
    "\n",
    "sObject01.name = 'Thara'\n",
    "sObject01.age = 22\n",
    "\n",
    "sObject01.display()"
   ]
  },
  {
   "cell_type": "code",
   "execution_count": 30,
   "id": "bfd37a04-76c6-4cbd-a73c-12d63c1eec4d",
   "metadata": {},
   "outputs": [
    {
     "name": "stdout",
     "output_type": "stream",
     "text": [
      "Sara  your age is  25\n",
      "Lara  your age is  26\n"
     ]
    }
   ],
   "source": [
    "# call the class function using object\n",
    "\n",
    "sObject02 = Student()\n",
    "\n",
    "sObject02.display()\n",
    "\n",
    "sObject02.name = 'Lara'\n",
    "sObject02.age = 26\n",
    "\n",
    "sObject02.display()"
   ]
  },
  {
   "cell_type": "markdown",
   "id": "6e76136c-1e9f-45db-b073-b137a9824218",
   "metadata": {},
   "source": [
    "__init__ - method\n",
    "-----------------"
   ]
  },
  {
   "cell_type": "code",
   "execution_count": 35,
   "id": "469ff2f2-5708-4a20-aa3c-1595ad180728",
   "metadata": {},
   "outputs": [],
   "source": [
    "# __init__ Method, Constructor method for value Intialization\n",
    "\n",
    "class Student:\n",
    "    def __init__(self, name, age):\n",
    "        self.name = name\n",
    "        self.age = age\n",
    "        print('Value Assign Successfully!..')\n",
    "\n",
    "    def display(self):\n",
    "        print(self.name, ' your age is ', self.age)"
   ]
  },
  {
   "cell_type": "code",
   "execution_count": 37,
   "id": "38bff0e7-a20c-4ed3-91c3-22d891919f74",
   "metadata": {},
   "outputs": [
    {
     "name": "stdout",
     "output_type": "stream",
     "text": [
      "Value Assign Successfully!..\n",
      "Sara  your age is  25\n"
     ]
    }
   ],
   "source": [
    "sObject01 = Student('Sara', 25)\n",
    "\n",
    "sObject01.display()"
   ]
  },
  {
   "cell_type": "code",
   "execution_count": 38,
   "id": "32938cf9-b1bd-4998-8698-75f63aba8bab",
   "metadata": {},
   "outputs": [
    {
     "name": "stdout",
     "output_type": "stream",
     "text": [
      "Value Assign Successfully!..\n",
      "Thara  your age is  22\n"
     ]
    }
   ],
   "source": [
    "sObject02 = Student('Thara', 22)\n",
    "\n",
    "sObject02.display()"
   ]
  },
  {
   "cell_type": "code",
   "execution_count": null,
   "id": "7da5c424-6ee3-4745-bf32-a795bb3c1d79",
   "metadata": {},
   "outputs": [],
   "source": []
  }
 ],
 "metadata": {
  "kernelspec": {
   "display_name": "Python 3 (ipykernel)",
   "language": "python",
   "name": "python3"
  },
  "language_info": {
   "codemirror_mode": {
    "name": "ipython",
    "version": 3
   },
   "file_extension": ".py",
   "mimetype": "text/x-python",
   "name": "python",
   "nbconvert_exporter": "python",
   "pygments_lexer": "ipython3",
   "version": "3.13.2"
  }
 },
 "nbformat": 4,
 "nbformat_minor": 5
}
