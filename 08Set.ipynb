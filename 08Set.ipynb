{
 "cells": [
  {
   "cell_type": "markdown",
   "id": "bd5d6d59-cb2a-45f9-8544-9f6997659968",
   "metadata": {},
   "source": [
    "Set:\n",
    "------\n",
    "1. Set is collection of Data Type\n",
    "2. Set are Declare {} - Curly Braces\n",
    "3. Set are used to remove douplicate values\n",
    "4. Set Values are store in a single variable - Using non Index"
   ]
  },
  {
   "cell_type": "code",
   "execution_count": 3,
   "id": "34c26fe5-2f50-4424-a000-107e4a101916",
   "metadata": {},
   "outputs": [
    {
     "name": "stdout",
     "output_type": "stream",
     "text": [
      "{'Male', 'Sara', 101, 22} <class 'set'>\n"
     ]
    }
   ],
   "source": [
    "details = {101, 'Sara', 22, 101, 22, 'Sara', 'Male'}\n",
    "\n",
    "print(details, type(details))"
   ]
  },
  {
   "cell_type": "markdown",
   "id": "2d5b0436-290e-4d23-bd92-c3c935360b96",
   "metadata": {},
   "source": [
    "add\n",
    "---"
   ]
  },
  {
   "cell_type": "code",
   "execution_count": 6,
   "id": "a4948786-15be-4f27-b654-d7f01c18c49a",
   "metadata": {},
   "outputs": [
    {
     "name": "stdout",
     "output_type": "stream",
     "text": [
      "{'Male', 'Sara', 101, 22} <class 'set'>\n",
      "--------------------------------------------\n",
      "{9500912258, 101, 'Male', 22, 'Sara'}\n"
     ]
    }
   ],
   "source": [
    "details = {101, 'Sara', 22, 101, 22, 'Sara', 'Male'}\n",
    "\n",
    "print(details, type(details))\n",
    "\n",
    "print('--------------------------------------------')\n",
    "\n",
    "details.add(9500912258)\n",
    "\n",
    "print(details)"
   ]
  },
  {
   "cell_type": "markdown",
   "id": "3d2b0640-9df1-4471-a6ab-0132b628f8df",
   "metadata": {},
   "source": [
    "Update\n",
    "------"
   ]
  },
  {
   "cell_type": "code",
   "execution_count": 8,
   "id": "5edef795-a7cd-4fa5-90ac-cf994804ac84",
   "metadata": {},
   "outputs": [
    {
     "name": "stdout",
     "output_type": "stream",
     "text": [
      "{'Sara', 101, 22}\n",
      "----------------------------------------------------------\n",
      "{'Male', 950012258}\n",
      "----------------------------------------------------------\n",
      "{'Male', 950012258, 101, 22, 'Sara'}\n"
     ]
    }
   ],
   "source": [
    "details01 = {101, 'Sara', 22}\n",
    "\n",
    "print(details01)\n",
    "\n",
    "print('----------------------------------------------------------')\n",
    "\n",
    "details02 = {'Male', 950012258}\n",
    "\n",
    "print(details02)\n",
    "\n",
    "print('----------------------------------------------------------')\n",
    "\n",
    "details01.update(details02)\n",
    "\n",
    "print(details01)"
   ]
  },
  {
   "cell_type": "markdown",
   "id": "6f59cb5f-6a2d-42ce-8d78-d2c6e5dec947",
   "metadata": {},
   "source": [
    "Discard\n",
    "-------"
   ]
  },
  {
   "cell_type": "code",
   "execution_count": 12,
   "id": "731007a0-704e-48c0-91ed-b55e7b372a9e",
   "metadata": {},
   "outputs": [
    {
     "name": "stdout",
     "output_type": "stream",
     "text": [
      "{'Male', 'Sara', 101, 22} <class 'set'>\n",
      "--------------------------------------------\n",
      "{'Male', 101, 22}\n",
      "--------------------------------------------\n",
      "{'Male', 101, 22}\n"
     ]
    }
   ],
   "source": [
    "details = {101, 'Sara', 22, 101, 22, 'Sara', 'Male'}\n",
    "\n",
    "print(details, type(details))\n",
    "\n",
    "print('--------------------------------------------')\n",
    "\n",
    "details.discard('Sara')\n",
    "\n",
    "print(details)\n",
    "\n",
    "print('--------------------------------------------')\n",
    "\n",
    "details.discard(9500912258)\n",
    "\n",
    "print(details)"
   ]
  },
  {
   "cell_type": "markdown",
   "id": "7794682c-3b98-4855-9c58-cac2c0679d06",
   "metadata": {},
   "source": [
    "Remove\n",
    "------"
   ]
  },
  {
   "cell_type": "code",
   "execution_count": 13,
   "id": "4291364b-fbde-4bff-8ceb-a5299e1c9e8a",
   "metadata": {},
   "outputs": [
    {
     "name": "stdout",
     "output_type": "stream",
     "text": [
      "{'Male', 'Sara', 101, 22} <class 'set'>\n",
      "--------------------------------------------\n",
      "{'Male', 101, 22}\n",
      "--------------------------------------------\n"
     ]
    },
    {
     "ename": "KeyError",
     "evalue": "9500912258",
     "output_type": "error",
     "traceback": [
      "\u001b[31m---------------------------------------------------------------------------\u001b[39m",
      "\u001b[31mKeyError\u001b[39m                                  Traceback (most recent call last)",
      "\u001b[36mCell\u001b[39m\u001b[36m \u001b[39m\u001b[32mIn[13]\u001b[39m\u001b[32m, line 13\u001b[39m\n\u001b[32m      9\u001b[39m \u001b[38;5;28mprint\u001b[39m(details)\n\u001b[32m     11\u001b[39m \u001b[38;5;28mprint\u001b[39m(\u001b[33m'\u001b[39m\u001b[33m--------------------------------------------\u001b[39m\u001b[33m'\u001b[39m)\n\u001b[32m---> \u001b[39m\u001b[32m13\u001b[39m \u001b[43mdetails\u001b[49m\u001b[43m.\u001b[49m\u001b[43mremove\u001b[49m\u001b[43m(\u001b[49m\u001b[32;43m9500912258\u001b[39;49m\u001b[43m)\u001b[49m\n\u001b[32m     15\u001b[39m \u001b[38;5;28mprint\u001b[39m(details)\n",
      "\u001b[31mKeyError\u001b[39m: 9500912258"
     ]
    }
   ],
   "source": [
    "details = {101, 'Sara', 22, 101, 22, 'Sara', 'Male'}\n",
    "\n",
    "print(details, type(details))\n",
    "\n",
    "print('--------------------------------------------')\n",
    "\n",
    "details.remove('Sara')\n",
    "\n",
    "print(details)\n",
    "\n",
    "print('--------------------------------------------')\n",
    "\n",
    "details.remove(9500912258)\n",
    "\n",
    "print(details)"
   ]
  },
  {
   "cell_type": "markdown",
   "id": "9e3f7853-6d86-4375-83dc-4d47245d835b",
   "metadata": {},
   "source": [
    "Union, intersection, semmytric Difference\n",
    "--------------------------------------"
   ]
  },
  {
   "cell_type": "code",
   "execution_count": 19,
   "id": "9fe498c6-a63b-48ac-b575-24e4025c52f7",
   "metadata": {},
   "outputs": [
    {
     "name": "stdout",
     "output_type": "stream",
     "text": [
      "--------------------------------\n",
      "{1, 2, 3, 4, 7, 8}\n",
      "{2, 3, 5, 6, 9, 10}\n",
      "--------------------------------\n",
      "{1, 2, 3, 4, 5, 6, 7, 8, 9, 10}\n",
      "--------------------------------\n",
      "{2, 3}\n",
      "--------------------------------\n",
      "{1, 4, 5, 6, 7, 8, 9, 10}\n"
     ]
    }
   ],
   "source": [
    "a = {1, 2, 2, 3, 4, 7, 8}\n",
    "\n",
    "b = {2, 3, 5, 6, 9, 10}\n",
    "\n",
    "print('--------------------------------')\n",
    "\n",
    "print(a)\n",
    "\n",
    "print(b)\n",
    "\n",
    "print('--------------------------------')\n",
    "\n",
    "# union\n",
    "\n",
    "u = a.union(b)\n",
    "\n",
    "print(u)\n",
    "\n",
    "print('--------------------------------')\n",
    "\n",
    "# intersection\n",
    "\n",
    "i = a.intersection(b)\n",
    "\n",
    "print(i)\n",
    "\n",
    "print('--------------------------------')\n",
    "\n",
    "# symmetric_difference\n",
    "\n",
    "s = a.symmetric_difference(b)\n",
    "\n",
    "print(s)"
   ]
  },
  {
   "cell_type": "code",
   "execution_count": null,
   "id": "1da924a3-0b59-4238-ba74-f442639ffea7",
   "metadata": {},
   "outputs": [],
   "source": []
  }
 ],
 "metadata": {
  "kernelspec": {
   "display_name": "Python 3 (ipykernel)",
   "language": "python",
   "name": "python3"
  },
  "language_info": {
   "codemirror_mode": {
    "name": "ipython",
    "version": 3
   },
   "file_extension": ".py",
   "mimetype": "text/x-python",
   "name": "python",
   "nbconvert_exporter": "python",
   "pygments_lexer": "ipython3",
   "version": "3.13.2"
  }
 },
 "nbformat": 4,
 "nbformat_minor": 5
}
