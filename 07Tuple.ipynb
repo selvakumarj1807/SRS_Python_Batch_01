{
 "cells": [
  {
   "cell_type": "markdown",
   "id": "f6c92c2a-a346-47fb-ab61-c20bc1754ab8",
   "metadata": {},
   "source": [
    "Tuple:\n",
    "------\n",
    "1. Tuple is collection of Data Type\n",
    "2. Tuple are Declare () - paranthisis\n",
    "3. Tuple are immutable (un changable)\n",
    "4. Tuple Values are store in a single variable - Using Index"
   ]
  },
  {
   "cell_type": "code",
   "execution_count": 2,
   "id": "ba525cc4-debb-4438-a93d-18ac778e87ea",
   "metadata": {},
   "outputs": [
    {
     "name": "stdout",
     "output_type": "stream",
     "text": [
      "(101, 'Sara', 22) <class 'tuple'>\n"
     ]
    }
   ],
   "source": [
    "details = (101, 'Sara', 22)\n",
    "\n",
    "print(details, type(details))"
   ]
  },
  {
   "cell_type": "markdown",
   "id": "04642d5f-ef2f-4acc-8f09-738aaec031fb",
   "metadata": {},
   "source": [
    "Type Casting:\n",
    "-------------\n",
    "\n",
    "    One Data type to another data type"
   ]
  },
  {
   "cell_type": "code",
   "execution_count": 4,
   "id": "baa5c272-3800-491e-b692-a8c1cfe83cee",
   "metadata": {},
   "outputs": [
    {
     "name": "stdout",
     "output_type": "stream",
     "text": [
      "10 <class 'int'> 10.5 <class 'float'>\n",
      "--------------------------------\n",
      "10.0 <class 'float'> 10 <class 'int'>\n"
     ]
    }
   ],
   "source": [
    "a = 10\n",
    "\n",
    "b = 10.5\n",
    "\n",
    "print(a, type(a),  b, type(b))\n",
    "\n",
    "print('--------------------------------')\n",
    "\n",
    "a = float(a)\n",
    "\n",
    "b = int(b)\n",
    "\n",
    "print(a, type(a),  b, type(b))"
   ]
  },
  {
   "cell_type": "code",
   "execution_count": 7,
   "id": "5bc95d57-c578-4746-b175-70ef986c17c2",
   "metadata": {},
   "outputs": [
    {
     "name": "stdout",
     "output_type": "stream",
     "text": [
      "(101, 'Sara', 22) <class 'tuple'>\n",
      "---------------------------------\n",
      "[101, 'Sara', 22] <class 'list'>\n",
      "---------------------------------\n",
      "(101, 'Sara', 22, 'Male') <class 'tuple'>\n"
     ]
    }
   ],
   "source": [
    "details = (101, 'Sara', 22)\n",
    "\n",
    "print(details, type(details))\n",
    "\n",
    "print('---------------------------------')\n",
    "\n",
    "details = list(details)\n",
    "\n",
    "print(details, type(details))\n",
    "\n",
    "details.append('Male')\n",
    "\n",
    "print('---------------------------------')\n",
    "\n",
    "details = tuple(details)\n",
    "\n",
    "print(details, type(details))\n",
    "\n"
   ]
  },
  {
   "cell_type": "markdown",
   "id": "4c663365-4772-4268-aebe-1f34227ec0a8",
   "metadata": {},
   "source": [
    "For Loop & If Condition:\n",
    "------------------------"
   ]
  },
  {
   "cell_type": "code",
   "execution_count": 13,
   "id": "694935f1-dfa3-4a74-bd13-37a6a48aa7c7",
   "metadata": {},
   "outputs": [
    {
     "name": "stdout",
     "output_type": "stream",
     "text": [
      "(101, 'Sara', 22) <class 'tuple'>\n",
      "---------------------------------\n",
      "Values is in the Variable\n",
      "---------------------------------\n",
      "101\n",
      "Sara\n",
      "22\n"
     ]
    }
   ],
   "source": [
    "details = (101, 'Sara', 22)\n",
    "\n",
    "print(details, type(details))\n",
    "\n",
    "print('---------------------------------')\n",
    "\n",
    "# If Condition\n",
    "\n",
    "if 'Sara' in details:\n",
    "    print('Values is in the Variable')\n",
    "\n",
    "else:\n",
    "    print('Values is not in the Variable')\n",
    "\n",
    "print('---------------------------------')\n",
    "\n",
    "# For Loop\n",
    "\n",
    "for i in (details):\n",
    "    print(i)"
   ]
  },
  {
   "cell_type": "code",
   "execution_count": null,
   "id": "f5ae4437-ba8a-441d-b4ff-9ffe12a22d8e",
   "metadata": {},
   "outputs": [],
   "source": []
  }
 ],
 "metadata": {
  "kernelspec": {
   "display_name": "Python 3 (ipykernel)",
   "language": "python",
   "name": "python3"
  },
  "language_info": {
   "codemirror_mode": {
    "name": "ipython",
    "version": 3
   },
   "file_extension": ".py",
   "mimetype": "text/x-python",
   "name": "python",
   "nbconvert_exporter": "python",
   "pygments_lexer": "ipython3",
   "version": "3.13.2"
  }
 },
 "nbformat": 4,
 "nbformat_minor": 5
}
