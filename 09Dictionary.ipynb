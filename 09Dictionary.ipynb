{
 "cells": [
  {
   "cell_type": "markdown",
   "id": "31903b05-3a41-42cb-870d-c7f18e3c2d1d",
   "metadata": {},
   "source": [
    "Dictionary\n",
    "----------\n",
    "\n",
    "1. Dictionary is collection of Data Type\n",
    "2. Dictionary are Declare {'Key': 'Value'} - Curly Braces with Key and pair values\n",
    "3. Dictionary are used to remove douplicate values\n",
    "4. Dictionary Values are store in a single variable - Using non Index - Using Key"
   ]
  },
  {
   "cell_type": "code",
   "execution_count": 1,
   "id": "b8d986cf-74dd-4412-87b0-48a7a2ed26de",
   "metadata": {},
   "outputs": [
    {
     "name": "stdout",
     "output_type": "stream",
     "text": [
      "{'id': 101, 'name': 'Sara', 'age': 22} <class 'dict'>\n"
     ]
    }
   ],
   "source": [
    "details = {'id': 101, 'name': 'Sara', 'age': 22}\n",
    "\n",
    "print(details, type(details))"
   ]
  },
  {
   "cell_type": "markdown",
   "id": "fe2dd8d3-742f-431c-a05d-af89f598027f",
   "metadata": {},
   "source": [
    "Update\n",
    "------"
   ]
  },
  {
   "cell_type": "code",
   "execution_count": 2,
   "id": "c577086d-33a4-4fd0-afc7-15da6e352e12",
   "metadata": {},
   "outputs": [
    {
     "name": "stdout",
     "output_type": "stream",
     "text": [
      "{'id': 101, 'name': 'Sara', 'age': 22} <class 'dict'>\n",
      "---------------------------------------\n",
      "{'id': 101, 'name': 'Sara', 'age': 22, 'gender': 'Male', 'mobile': 9500912258}\n"
     ]
    }
   ],
   "source": [
    "details = {'id': 101, 'name': 'Sara', 'age': 22}\n",
    "\n",
    "print(details, type(details))\n",
    "\n",
    "print('---------------------------------------')\n",
    "\n",
    "details.update({'gender': 'Male', 'mobile': 9500912258})\n",
    "\n",
    "print(details)"
   ]
  },
  {
   "cell_type": "markdown",
   "id": "6883741b-a7f1-4e40-93a6-d275bc83ad19",
   "metadata": {},
   "source": [
    "change the Value\n",
    "----------------"
   ]
  },
  {
   "cell_type": "code",
   "execution_count": 6,
   "id": "92124afe-d90e-49bd-ae08-dba610e01a3f",
   "metadata": {},
   "outputs": [
    {
     "name": "stdout",
     "output_type": "stream",
     "text": [
      "{'id': 101, 'name': 'Sara', 'age': 22} <class 'dict'>\n",
      "---------------------------------------\n",
      "Sara\n",
      "Developer\n",
      "{'id': 101, 'name': 'Developer', 'age': 22} <class 'dict'>\n"
     ]
    }
   ],
   "source": [
    "details = {'id': 101, 'name': 'Sara', 'age': 22}\n",
    "\n",
    "print(details, type(details))\n",
    "\n",
    "print('---------------------------------------')\n",
    "\n",
    "print(details['name'])\n",
    "\n",
    "details['name'] = 'Developer'\n",
    "\n",
    "print(details['name'])\n",
    "\n",
    "print(details, type(details))"
   ]
  },
  {
   "cell_type": "markdown",
   "id": "0cacf70b-fc43-494e-acb1-96277065e31b",
   "metadata": {},
   "source": [
    "pop\n",
    "---"
   ]
  },
  {
   "cell_type": "code",
   "execution_count": 8,
   "id": "a607afba-8144-4640-8572-076e38d29c5c",
   "metadata": {},
   "outputs": [
    {
     "name": "stdout",
     "output_type": "stream",
     "text": [
      "{'id': 101, 'name': 'Sara', 'age': 22} <class 'dict'>\n",
      "---------------------------------------\n",
      "{'id': 101, 'age': 22}\n"
     ]
    }
   ],
   "source": [
    "details = {'id': 101, 'name': 'Sara', 'age': 22}\n",
    "\n",
    "print(details, type(details))\n",
    "\n",
    "print('---------------------------------------')\n",
    "\n",
    "details.pop('name')\n",
    "\n",
    "print(details)"
   ]
  },
  {
   "cell_type": "markdown",
   "id": "66f28bf4-159f-4a33-8138-6517a58e6005",
   "metadata": {},
   "source": [
    "For Loop\n",
    "--------"
   ]
  },
  {
   "cell_type": "code",
   "execution_count": 11,
   "id": "28a683c4-d317-4c1a-9383-ac3e18ab878c",
   "metadata": {},
   "outputs": [
    {
     "name": "stdout",
     "output_type": "stream",
     "text": [
      "{'id': 101, 'name': 'Sara', 'age': 22} <class 'dict'>\n",
      "---------------------------------------\n",
      "id  -  101\n",
      "name  -  Sara\n",
      "age  -  22\n"
     ]
    }
   ],
   "source": [
    "details = {'id': 101, 'name': 'Sara', 'age': 22}\n",
    "\n",
    "print(details, type(details))\n",
    "\n",
    "print('---------------------------------------')\n",
    "\n",
    "for i in details:\n",
    "    print(i, ' - ', details[i])"
   ]
  },
  {
   "cell_type": "markdown",
   "id": "02d4e506-f3f1-4140-ae0a-ccad073b6417",
   "metadata": {},
   "source": [
    "Get Key \n",
    "-------"
   ]
  },
  {
   "cell_type": "code",
   "execution_count": 12,
   "id": "a63ce204-64f8-40cd-a14d-d46e650e995f",
   "metadata": {},
   "outputs": [
    {
     "name": "stdout",
     "output_type": "stream",
     "text": [
      "{'id': 101, 'name': 'Sara', 'age': 22} <class 'dict'>\n",
      "---------------------------------------\n",
      "dict_keys(['id', 'name', 'age'])\n"
     ]
    }
   ],
   "source": [
    "details = {'id': 101, 'name': 'Sara', 'age': 22}\n",
    "\n",
    "print(details, type(details))\n",
    "\n",
    "print('---------------------------------------')\n",
    "\n",
    "print(details.keys())"
   ]
  },
  {
   "cell_type": "markdown",
   "id": "c6325821-58e4-4e1c-8eac-dc894df33510",
   "metadata": {},
   "source": [
    "Get Values\n",
    "----------"
   ]
  },
  {
   "cell_type": "code",
   "execution_count": 13,
   "id": "168ffd2d-8256-41e9-ba5b-c354db14e465",
   "metadata": {},
   "outputs": [
    {
     "name": "stdout",
     "output_type": "stream",
     "text": [
      "{'id': 101, 'name': 'Sara', 'age': 22} <class 'dict'>\n",
      "---------------------------------------\n",
      "dict_values([101, 'Sara', 22])\n"
     ]
    }
   ],
   "source": [
    "details = {'id': 101, 'name': 'Sara', 'age': 22}\n",
    "\n",
    "print(details, type(details))\n",
    "\n",
    "print('---------------------------------------')\n",
    "\n",
    "print(details.values())"
   ]
  },
  {
   "cell_type": "code",
   "execution_count": null,
   "id": "a00ec775-994d-46c5-88c9-4c152683050c",
   "metadata": {},
   "outputs": [],
   "source": []
  }
 ],
 "metadata": {
  "kernelspec": {
   "display_name": "Python 3 (ipykernel)",
   "language": "python",
   "name": "python3"
  },
  "language_info": {
   "codemirror_mode": {
    "name": "ipython",
    "version": 3
   },
   "file_extension": ".py",
   "mimetype": "text/x-python",
   "name": "python",
   "nbconvert_exporter": "python",
   "pygments_lexer": "ipython3",
   "version": "3.13.2"
  }
 },
 "nbformat": 4,
 "nbformat_minor": 5
}
