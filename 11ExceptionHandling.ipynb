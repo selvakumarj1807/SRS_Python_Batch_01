{
 "cells": [
  {
   "cell_type": "markdown",
   "id": "3153c520-7dde-4907-9205-26573832d73f",
   "metadata": {},
   "source": [
    "Python Exception Handling or Error Handling:\n",
    "--------------------------------------------"
   ]
  },
  {
   "cell_type": "code",
   "execution_count": 6,
   "id": "33870bff-fc7c-4536-ae05-bb25af12d2d2",
   "metadata": {},
   "outputs": [
    {
     "name": "stdout",
     "output_type": "stream",
     "text": [
      "Denominator cannot be zero\n"
     ]
    }
   ],
   "source": [
    "try:\n",
    "    a = 10\n",
    "    b = 0\n",
    "\n",
    "    print(a / b)\n",
    "\n",
    "except:\n",
    "    print('Denominator cannot be zero')"
   ]
  },
  {
   "cell_type": "code",
   "execution_count": 7,
   "id": "f61312e4-aa43-45de-a0a5-16d397087204",
   "metadata": {},
   "outputs": [
    {
     "name": "stdout",
     "output_type": "stream",
     "text": [
      "division by zero\n",
      "Denominator cannot be zero\n"
     ]
    }
   ],
   "source": [
    "try:\n",
    "    a = 10\n",
    "    b = 0\n",
    "\n",
    "    print(a / b)\n",
    "\n",
    "except Exception as e:\n",
    "    print(e)\n",
    "    print('Denominator cannot be zero')"
   ]
  },
  {
   "cell_type": "code",
   "execution_count": 10,
   "id": "b1e767d3-c901-4446-831b-35467b20287e",
   "metadata": {},
   "outputs": [
    {
     "name": "stdout",
     "output_type": "stream",
     "text": [
      "5.0\n"
     ]
    }
   ],
   "source": [
    "try:\n",
    "    a = 10\n",
    "    b = 2\n",
    "\n",
    "    c = a / b\n",
    "\n",
    "except Exception as e:\n",
    "    print(e)\n",
    "    print('Denominator cannot be zero')\n",
    "\n",
    "else:\n",
    "    print(c)"
   ]
  },
  {
   "cell_type": "code",
   "execution_count": 11,
   "id": "cfbd3fcf-dcc8-4e29-b13c-f22dea055f49",
   "metadata": {},
   "outputs": [
    {
     "name": "stdout",
     "output_type": "stream",
     "text": [
      "5.0\n",
      "Programm Run Successfully!..\n"
     ]
    }
   ],
   "source": [
    "try:\n",
    "    a = 10\n",
    "    b = 2\n",
    "\n",
    "    c = a / b\n",
    "\n",
    "except Exception as e:\n",
    "    print(e)\n",
    "    print('Denominator cannot be zero')\n",
    "\n",
    "else:\n",
    "    print(c)\n",
    "\n",
    "finally:\n",
    "    print('Programm Run Successfully!..')"
   ]
  },
  {
   "cell_type": "code",
   "execution_count": 12,
   "id": "390c2c00-d26a-4096-ae50-ee4751f7f7b0",
   "metadata": {},
   "outputs": [
    {
     "name": "stdout",
     "output_type": "stream",
     "text": [
      "division by zero\n",
      "Denominator cannot be zero\n",
      "Programm Run Successfully!..\n"
     ]
    }
   ],
   "source": [
    "try:\n",
    "    a = 10\n",
    "    b = 0\n",
    "\n",
    "    c = a / b\n",
    "\n",
    "except Exception as e:\n",
    "    print(e)\n",
    "    print('Denominator cannot be zero')\n",
    "\n",
    "else:\n",
    "    print(c)\n",
    "\n",
    "finally:\n",
    "    print('Programm Run Successfully!..')"
   ]
  },
  {
   "cell_type": "code",
   "execution_count": null,
   "id": "f8e705e5-bafb-4ee9-b6bf-eb4e747d7d91",
   "metadata": {},
   "outputs": [],
   "source": []
  }
 ],
 "metadata": {
  "kernelspec": {
   "display_name": "Python 3 (ipykernel)",
   "language": "python",
   "name": "python3"
  },
  "language_info": {
   "codemirror_mode": {
    "name": "ipython",
    "version": 3
   },
   "file_extension": ".py",
   "mimetype": "text/x-python",
   "name": "python",
   "nbconvert_exporter": "python",
   "pygments_lexer": "ipython3",
   "version": "3.13.2"
  }
 },
 "nbformat": 4,
 "nbformat_minor": 5
}
