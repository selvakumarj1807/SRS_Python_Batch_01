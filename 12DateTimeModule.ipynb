{
 "cells": [
  {
   "cell_type": "markdown",
   "id": "ce32d650-0d78-435a-9d2f-0f8b68b75653",
   "metadata": {},
   "source": [
    "Python Date & Time:\n",
    "-------------------"
   ]
  },
  {
   "cell_type": "code",
   "execution_count": 2,
   "id": "091ee06a-b4e2-409f-995b-004ff65bc0d0",
   "metadata": {},
   "outputs": [],
   "source": [
    "import datetime as dt"
   ]
  },
  {
   "cell_type": "code",
   "execution_count": 3,
   "id": "250f4293-e7a9-44a4-8857-f962a3a172cc",
   "metadata": {},
   "outputs": [
    {
     "name": "stdout",
     "output_type": "stream",
     "text": [
      "2025-10-06\n"
     ]
    }
   ],
   "source": [
    "currentDate = dt.date.today()\n",
    "\n",
    "print(currentDate)"
   ]
  },
  {
   "cell_type": "code",
   "execution_count": 4,
   "id": "68794b03-5721-42b1-a219-e4f38be9ebfd",
   "metadata": {},
   "outputs": [
    {
     "name": "stdout",
     "output_type": "stream",
     "text": [
      "2022-12-21\n"
     ]
    }
   ],
   "source": [
    "customeDate = dt.date(2022,12,21)\n",
    "\n",
    "print(customeDate)"
   ]
  },
  {
   "cell_type": "code",
   "execution_count": 5,
   "id": "3ab041a4-91c3-42e6-a92d-6d271615e45f",
   "metadata": {},
   "outputs": [
    {
     "name": "stdout",
     "output_type": "stream",
     "text": [
      "2025-10-06 07:56:56.850624\n"
     ]
    }
   ],
   "source": [
    "currentDateTime = dt.datetime.now()\n",
    "\n",
    "print(currentDateTime)"
   ]
  },
  {
   "cell_type": "markdown",
   "id": "a19d7983-9084-4d96-a1ba-a31677d88dea",
   "metadata": {},
   "source": [
    "DateTime Format:\n",
    "----------------"
   ]
  },
  {
   "cell_type": "code",
   "execution_count": 7,
   "id": "ae2efc4b-4317-4102-a9fe-8ea01966f828",
   "metadata": {},
   "outputs": [
    {
     "name": "stdout",
     "output_type": "stream",
     "text": [
      "2025-10-06 08:00:07.490641\n",
      "---------------------------------------------------\n",
      "Monday : October : 06 : 2025\n",
      "---------------------------------------------------\n",
      "06 / October / 2025\n"
     ]
    }
   ],
   "source": [
    "currentDateTime = dt.datetime.now()\n",
    "\n",
    "print(currentDateTime)\n",
    "\n",
    "print('---------------------------------------------------')\n",
    "\n",
    "format01 = currentDateTime.strftime('%A : %B : %d : %Y')\n",
    "\n",
    "print(format01)\n",
    "\n",
    "print('---------------------------------------------------')\n",
    "\n",
    "format02 = currentDateTime.strftime('%d / %B / %Y')\n",
    "\n",
    "print(format02)"
   ]
  },
  {
   "cell_type": "code",
   "execution_count": 8,
   "id": "13cb14ff-3a43-4098-8e41-1bb5483413f9",
   "metadata": {},
   "outputs": [
    {
     "name": "stdout",
     "output_type": "stream",
     "text": [
      "2025-10-06 08:01:08.033832\n",
      "---------------------------------------------------\n",
      "Monday : October : 06 : 2025\n",
      "---------------------------------------------------\n",
      "06 / October / 2025\n",
      "---------------------------------------------------\n",
      "24-hour format: 08:01:08\n",
      "12-hour format: 08:01:08 AM\n",
      "Hour and minute: 08:01\n",
      "With microseconds: 08:01:08.033832\n"
     ]
    }
   ],
   "source": [
    "import datetime as dt\n",
    "\n",
    "currentDateTime = dt.datetime.now()\n",
    "\n",
    "print(currentDateTime)\n",
    "print('---------------------------------------------------')\n",
    "\n",
    "# Full date format\n",
    "format01 = currentDateTime.strftime('%A : %B : %d : %Y')\n",
    "print(format01)\n",
    "print('---------------------------------------------------')\n",
    "\n",
    "# Simple date format\n",
    "format02 = currentDateTime.strftime('%d / %B / %Y')\n",
    "print(format02)\n",
    "print('---------------------------------------------------')\n",
    "\n",
    "# TIME FORMATS\n",
    "# 1) 24-hour format (HH:MM:SS)\n",
    "time_format1 = currentDateTime.strftime('%H:%M:%S')\n",
    "print(\"24-hour format:\", time_format1)\n",
    "\n",
    "# 2) 12-hour format with AM/PM\n",
    "time_format2 = currentDateTime.strftime('%I:%M:%S %p')\n",
    "print(\"12-hour format:\", time_format2)\n",
    "\n",
    "# 3) Hour and minute only (24-hour)\n",
    "time_format3 = currentDateTime.strftime('%H:%M')\n",
    "print(\"Hour and minute:\", time_format3)\n",
    "\n",
    "# 4) Detailed with microseconds\n",
    "time_format4 = currentDateTime.strftime('%H:%M:%S.%f')\n",
    "print(\"With microseconds:\", time_format4)\n"
   ]
  },
  {
   "cell_type": "code",
   "execution_count": null,
   "id": "5f35aaaf-8a35-4aec-9e44-00bee293dca7",
   "metadata": {},
   "outputs": [],
   "source": []
  }
 ],
 "metadata": {
  "kernelspec": {
   "display_name": "Python 3 (ipykernel)",
   "language": "python",
   "name": "python3"
  },
  "language_info": {
   "codemirror_mode": {
    "name": "ipython",
    "version": 3
   },
   "file_extension": ".py",
   "mimetype": "text/x-python",
   "name": "python",
   "nbconvert_exporter": "python",
   "pygments_lexer": "ipython3",
   "version": "3.13.2"
  }
 },
 "nbformat": 4,
 "nbformat_minor": 5
}
