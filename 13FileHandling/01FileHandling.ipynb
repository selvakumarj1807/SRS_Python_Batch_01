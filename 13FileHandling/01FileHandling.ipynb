{
 "cells": [
  {
   "cell_type": "markdown",
   "id": "c8a945a4-73a3-462c-83da-5c34c7da2937",
   "metadata": {},
   "source": [
    "Python File Handling:\n",
    "---------------------"
   ]
  },
  {
   "cell_type": "markdown",
   "id": "1e9020fa-2eeb-4f92-aa80-8865dea12e15",
   "metadata": {},
   "source": [
    "# 01. Read File\n",
    "---------------"
   ]
  },
  {
   "cell_type": "code",
   "execution_count": 2,
   "id": "5af13692-96b7-4d83-bbf5-a891e1ae0a64",
   "metadata": {},
   "outputs": [
    {
     "name": "stdout",
     "output_type": "stream",
     "text": [
      "Hi This is Python File Handling\n"
     ]
    }
   ],
   "source": [
    "fileRead = open('test.txt', 'r') \n",
    "print(fileRead.readline())\n",
    "fileRead.close()"
   ]
  },
  {
   "cell_type": "markdown",
   "id": "3693710c-d687-421c-a917-5e15f7471a73",
   "metadata": {},
   "source": [
    "# 02. File Write\n",
    "----------------"
   ]
  },
  {
   "cell_type": "code",
   "execution_count": 4,
   "id": "2352c37d-7747-4760-85de-53f3252af923",
   "metadata": {},
   "outputs": [
    {
     "name": "stdout",
     "output_type": "stream",
     "text": [
      "Hi This is Python File Handling\n",
      "--------------------------------------------------\n",
      "--------------------------------------------------\n",
      "This is File Write Method\n"
     ]
    }
   ],
   "source": [
    "fileRead = open('test.txt', 'r') \n",
    "print(fileRead.readline())\n",
    "fileRead.close()\n",
    "\n",
    "print('--------------------------------------------------')\n",
    "\n",
    "fileWrite = open('test.txt', 'w') \n",
    "fileWrite.write('This is File Write Method')\n",
    "fileWrite.close()\n",
    "\n",
    "print('--------------------------------------------------')\n",
    "\n",
    "fileRead = open('test.txt', 'r') \n",
    "print(fileRead.readline())\n",
    "fileRead.close()"
   ]
  },
  {
   "cell_type": "markdown",
   "id": "6d45d2ff-f7ba-425e-81f0-7e1d9f999f66",
   "metadata": {},
   "source": [
    "# 03. File Append\n",
    "-----------------"
   ]
  },
  {
   "cell_type": "code",
   "execution_count": 5,
   "id": "9fbadbe1-ef6f-428f-aabb-2ef96d58bb79",
   "metadata": {},
   "outputs": [
    {
     "name": "stdout",
     "output_type": "stream",
     "text": [
      "This is File Write Method\n",
      "--------------------------------------------------\n",
      "--------------------------------------------------\n",
      "This is File Write Method This is File Append Method\n"
     ]
    }
   ],
   "source": [
    "fileRead = open('test.txt', 'r') \n",
    "print(fileRead.readline())\n",
    "fileRead.close()\n",
    "\n",
    "print('--------------------------------------------------')\n",
    "\n",
    "fileAppend = open('test.txt', 'a') \n",
    "fileAppend.write(' This is File Append Method')\n",
    "fileAppend.close()\n",
    "\n",
    "print('--------------------------------------------------')\n",
    "\n",
    "fileRead = open('test.txt', 'r') \n",
    "print(fileRead.readline())\n",
    "fileRead.close()"
   ]
  },
  {
   "cell_type": "markdown",
   "id": "5851d68b-d802-4510-b9e3-d4a5aa3c5b01",
   "metadata": {},
   "source": [
    "# 04 File Delete\n",
    "----------------"
   ]
  },
  {
   "cell_type": "code",
   "execution_count": 6,
   "id": "7c60ea9a-bfb8-4d85-a38a-747f9e219e4c",
   "metadata": {},
   "outputs": [],
   "source": [
    "import os"
   ]
  },
  {
   "cell_type": "code",
   "execution_count": 10,
   "id": "c2fe06e4-9c54-4c36-ac2c-c093e3f8e690",
   "metadata": {},
   "outputs": [
    {
     "name": "stdout",
     "output_type": "stream",
     "text": [
      "test.txt File is in your Folder!..\n",
      "test.txt  File successfully Deleted!..\n"
     ]
    }
   ],
   "source": [
    "fileName = 'test.txt'\n",
    "\n",
    "if os.path.exists(fileName):\n",
    "    print(fileName, 'File is in your Folder!..')\n",
    "    os.remove(fileName)\n",
    "    print(fileName, ' File successfully Deleted!..')\n",
    "\n",
    "else:\n",
    "    print(fileName, 'File is not in your Folder!..')"
   ]
  },
  {
   "cell_type": "code",
   "execution_count": null,
   "id": "f1ebb1d2-2980-4ac3-ac7e-cf028ba609c0",
   "metadata": {},
   "outputs": [],
   "source": []
  }
 ],
 "metadata": {
  "kernelspec": {
   "display_name": "Python 3 (ipykernel)",
   "language": "python",
   "name": "python3"
  },
  "language_info": {
   "codemirror_mode": {
    "name": "ipython",
    "version": 3
   },
   "file_extension": ".py",
   "mimetype": "text/x-python",
   "name": "python",
   "nbconvert_exporter": "python",
   "pygments_lexer": "ipython3",
   "version": "3.13.2"
  }
 },
 "nbformat": 4,
 "nbformat_minor": 5
}
