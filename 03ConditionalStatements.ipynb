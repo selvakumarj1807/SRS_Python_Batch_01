{
 "cells": [
  {
   "cell_type": "markdown",
   "id": "45172898-93ce-41b8-a799-fd9e4ab9a2a6",
   "metadata": {},
   "source": [
    "Conditional OR Controll Statements:\n",
    "-----------------------------------\n",
    "\n",
    "1. IF\n",
    "2. IF ELSE\n",
    "3. IF ELIF ELSE"
   ]
  },
  {
   "cell_type": "code",
   "execution_count": 2,
   "id": "1e7bbb53-c435-4590-8e76-9e3be94bf985",
   "metadata": {},
   "outputs": [],
   "source": [
    "# IF\n",
    "\n",
    "mark01 = 35\n",
    "mark02 = 45\n",
    "mark03 = 55\n",
    "\n",
    "if mark01 >= 35:\n",
    "    print(mark01, ' Pass ')"
   ]
  },
  {
   "cell_type": "code",
   "execution_count": 4,
   "id": "b1d40aaf-af51-4278-acfa-ad8e5f975cde",
   "metadata": {},
   "outputs": [
    {
     "name": "stdout",
     "output_type": "stream",
     "text": [
      "35 Fail\n"
     ]
    }
   ],
   "source": [
    "# IF ELSE\n",
    "\n",
    "mark01 = 35\n",
    "mark02 = 45\n",
    "mark03 = 55\n",
    "\n",
    "if mark01 >= 40:\n",
    "    print(mark01, ' Pass ')\n",
    "else:\n",
    "    print(mark01, 'Fail')"
   ]
  },
  {
   "cell_type": "code",
   "execution_count": 11,
   "id": "f8ef8f61-abb5-4515-8bc7-5c7efa34f412",
   "metadata": {},
   "outputs": [
    {
     "name": "stdout",
     "output_type": "stream",
     "text": [
      "40 45 55  - Pass \n"
     ]
    }
   ],
   "source": [
    "# IF ELSE\n",
    "# Using Logical Operators for Multiple Conditions in a Conditional Block\n",
    "\n",
    "mark01 = 40\n",
    "mark02 = 45\n",
    "mark03 = 55\n",
    "\n",
    "if mark01 >= 40 and mark02 >= 40 and mark03 >= 40 :\n",
    "    print(mark01, mark02, mark03, ' - Pass ')\n",
    "else:\n",
    "    print(mark01, mark02, mark03, ' - Fail')"
   ]
  },
  {
   "cell_type": "code",
   "execution_count": 22,
   "id": "d1858e24-aad4-4d29-aded-f86a22b86d38",
   "metadata": {},
   "outputs": [
    {
     "name": "stdin",
     "output_type": "stream",
     "text": [
      "Enter Mark01 :  89\n",
      "Enter Mark02 :  89\n",
      "Enter Mark03 :  90\n"
     ]
    },
    {
     "name": "stdout",
     "output_type": "stream",
     "text": [
      "89 89 90  - Pass \n",
      "Total :  268\n",
      "Average :  89\n",
      "89  B Grade \n"
     ]
    }
   ],
   "source": [
    "# Nested IF\n",
    "# IF ELIF ELSE\n",
    "# Using Logical Operators for Multiple Conditions in a Conditional Block\n",
    "\n",
    "mark01 = int(input('Enter Mark01 : '))\n",
    "mark02 = int(input('Enter Mark02 : '))\n",
    "mark03 = int(input('Enter Mark03 : '))\n",
    "\n",
    "if mark01 >= 40 and mark02 >= 40 and mark03 >= 40 :\n",
    "    print(mark01, mark02, mark03, ' - Pass ')\n",
    "\n",
    "    total = mark01 + mark02 + mark03\n",
    "\n",
    "    avg = int(total / 3)\n",
    "\n",
    "    print('Total : ', total)\n",
    "\n",
    "    print('Average : ', avg)\n",
    "\n",
    "    if avg >= 90 and avg <= 100:\n",
    "        print(avg, ' A Grade ')\n",
    "\n",
    "    elif avg >= 80 and avg <= 90:\n",
    "        print(avg, ' B Grade ')\n",
    "\n",
    "    else:\n",
    "        print(avg, ' D Grade ')\n",
    "     \n",
    "else:\n",
    "    print(mark01, mark02, mark03, ' - Fail')\n",
    "\n",
    "    if mark01 <= 40:\n",
    "        print(mark01, ' Mark 01 is Less than 40. So You are Fail ')\n",
    "\n",
    "    if mark02 <= 40:\n",
    "        print(mark01, ' Mark 02 is Less than 40. So You are Fail ')\n",
    "\n",
    "    if mark03 <= 40:\n",
    "        print(mark01, ' Mark 03 is Less than 40. So You are Fail ')\n"
   ]
  },
  {
   "cell_type": "markdown",
   "id": "eab50132-73e3-4069-aa02-2eac305bcb48",
   "metadata": {},
   "source": [
    "Loop Statements:\n",
    "----------------\n",
    "\n",
    "1. While Loop\n",
    "2. For Loop"
   ]
  },
  {
   "cell_type": "markdown",
   "id": "2fdc901e-1bc5-4b05-930c-efb0d5515086",
   "metadata": {},
   "source": [
    "# 1. While Loop:\n",
    "----------------"
   ]
  },
  {
   "cell_type": "code",
   "execution_count": 25,
   "id": "629ce1b1-7da3-4f8b-a177-875395c6ad7f",
   "metadata": {},
   "outputs": [
    {
     "name": "stdout",
     "output_type": "stream",
     "text": [
      "0\n",
      "1\n",
      "2\n",
      "3\n",
      "4\n"
     ]
    }
   ],
   "source": [
    "# i = iterative Variable\n",
    "\n",
    "i = 0 # Value Intial\n",
    "\n",
    "while i < 5: # Value Conditional Checking #  5 < 5\n",
    "    print(i)\n",
    "\n",
    "    i = i + 1 # Value Increment # i = 4 + 1"
   ]
  },
  {
   "cell_type": "code",
   "execution_count": 27,
   "id": "3b2144ed-b431-4585-aaa9-13bd3b49735a",
   "metadata": {},
   "outputs": [
    {
     "name": "stdout",
     "output_type": "stream",
     "text": [
      "1\n",
      "2\n",
      "3\n",
      "4\n",
      "5\n"
     ]
    }
   ],
   "source": [
    "\n",
    "i = 1 \n",
    "\n",
    "while i <= 5: \n",
    "    print(i)\n",
    "\n",
    "    i = i + 1 "
   ]
  },
  {
   "cell_type": "code",
   "execution_count": 31,
   "id": "46e54597-34c7-4775-bf56-9816089b78f2",
   "metadata": {},
   "outputs": [
    {
     "name": "stdin",
     "output_type": "stream",
     "text": [
      "Enter a Limit Value :  10\n"
     ]
    },
    {
     "name": "stdout",
     "output_type": "stream",
     "text": [
      "1\n",
      "3\n",
      "5\n",
      "7\n",
      "9\n"
     ]
    }
   ],
   "source": [
    "# To Print the Odd Numbers\n",
    "\n",
    "\n",
    "i = 1 \n",
    "\n",
    "n = int(input('Enter a Limit Value : '))\n",
    "\n",
    "while i <= n: \n",
    "    print(i)\n",
    "\n",
    "    i = i + 2 "
   ]
  },
  {
   "cell_type": "code",
   "execution_count": null,
   "id": "d249e8f4-be82-42e0-a79e-fc7f7184b08f",
   "metadata": {},
   "outputs": [],
   "source": [
    "'''\n",
    "ToDay Work:\n",
    "\n",
    "To Write the Python Code for print the Even Numbers (0 to 20)\n",
    "'''"
   ]
  },
  {
   "cell_type": "markdown",
   "id": "3014f286-bc41-4203-986c-bd0027b838b1",
   "metadata": {},
   "source": [
    "Break:\n",
    "------"
   ]
  },
  {
   "cell_type": "code",
   "execution_count": 5,
   "id": "9867ab17-1c89-4737-ada5-347e135fd174",
   "metadata": {},
   "outputs": [
    {
     "name": "stdout",
     "output_type": "stream",
     "text": [
      "0\n",
      "1\n",
      "2\n",
      "3\n",
      "4\n",
      "5\n",
      "6\n",
      "7\n",
      "8\n",
      "9\n",
      "Before Break Statement Run Succesfully\n"
     ]
    }
   ],
   "source": [
    "i = 0\n",
    "\n",
    "n = 20\n",
    "\n",
    "while i <= n:\n",
    "    print(i)\n",
    "\n",
    "    i += 1\n",
    "\n",
    "    if i == 10:\n",
    "        print('Before Break Statement Run Succesfully')\n",
    "        break\n",
    "        print('After Break Statement Run Succesfully')"
   ]
  },
  {
   "cell_type": "markdown",
   "id": "9cc374f7-971d-4818-ad72-593b27bf63a1",
   "metadata": {},
   "source": [
    "Continue:\n",
    "---------"
   ]
  },
  {
   "cell_type": "code",
   "execution_count": 6,
   "id": "e601b292-ac26-4338-aafb-4cfc63658d4c",
   "metadata": {},
   "outputs": [
    {
     "name": "stdout",
     "output_type": "stream",
     "text": [
      "0\n",
      "1\n",
      "2\n",
      "3\n",
      "4\n",
      "5\n",
      "6\n",
      "7\n",
      "8\n",
      "9\n",
      "Before Continue Statement Run Succesfully\n",
      "10\n",
      "11\n",
      "12\n",
      "13\n",
      "14\n",
      "15\n",
      "16\n",
      "17\n",
      "18\n",
      "19\n",
      "20\n"
     ]
    }
   ],
   "source": [
    "i = 0\n",
    "\n",
    "n = 20\n",
    "\n",
    "while i <= n:\n",
    "    print(i)\n",
    "\n",
    "    i += 1\n",
    "\n",
    "    if i == 10:\n",
    "        print('Before Continue Statement Run Succesfully')\n",
    "        continue\n",
    "        print('After Continue Statement Run Succesfully')"
   ]
  },
  {
   "cell_type": "markdown",
   "id": "74d2b5e8-2561-4350-9d0d-a5590dee1c71",
   "metadata": {},
   "source": [
    "pass:\n",
    "-----"
   ]
  },
  {
   "cell_type": "code",
   "execution_count": 7,
   "id": "d75d12f4-0f7e-494a-988c-32326a52506d",
   "metadata": {},
   "outputs": [
    {
     "name": "stdout",
     "output_type": "stream",
     "text": [
      "0\n",
      "1\n",
      "2\n",
      "3\n",
      "4\n",
      "5\n",
      "6\n",
      "7\n",
      "8\n",
      "9\n",
      "Before Pass Statement Run Succesfully\n",
      "After Pass Statement Run Succesfully\n",
      "10\n",
      "11\n",
      "12\n",
      "13\n",
      "14\n",
      "15\n",
      "16\n",
      "17\n",
      "18\n",
      "19\n",
      "20\n"
     ]
    }
   ],
   "source": [
    "i = 0\n",
    "\n",
    "n = 20\n",
    "\n",
    "while i <= n:\n",
    "    print(i)\n",
    "\n",
    "    i += 1\n",
    "\n",
    "    if i == 10:\n",
    "        print('Before Pass Statement Run Succesfully')\n",
    "        pass\n",
    "        print('After Pass Statement Run Succesfully')"
   ]
  },
  {
   "cell_type": "markdown",
   "id": "8a854972-c572-424c-a783-8c0402423c6f",
   "metadata": {},
   "source": [
    "For Loop:\n",
    "---------"
   ]
  },
  {
   "cell_type": "code",
   "execution_count": 11,
   "id": "4d0d52e9-a575-46c9-8ec7-efa4ed11c70a",
   "metadata": {},
   "outputs": [
    {
     "name": "stdout",
     "output_type": "stream",
     "text": [
      "0\n",
      "1\n",
      "2\n",
      "3\n",
      "4\n",
      "5\n",
      "6\n",
      "7\n",
      "8\n",
      "9\n"
     ]
    }
   ],
   "source": [
    "i = 0\n",
    "\n",
    "while i < 10:\n",
    "    print(i)\n",
    "\n",
    "    i = i + 1"
   ]
  },
  {
   "cell_type": "code",
   "execution_count": 13,
   "id": "480bb843-9892-4a87-a8e3-ccc63df57e34",
   "metadata": {},
   "outputs": [
    {
     "name": "stdout",
     "output_type": "stream",
     "text": [
      "0\n",
      "1\n",
      "2\n",
      "3\n",
      "4\n",
      "5\n",
      "6\n",
      "7\n",
      "8\n",
      "9\n"
     ]
    }
   ],
   "source": [
    "# Default Value Intial = 0\n",
    "# Default Value Increment = 1\n",
    "\n",
    "for i in range(10):\n",
    "    print(i)"
   ]
  },
  {
   "cell_type": "code",
   "execution_count": 16,
   "id": "3101810c-6a71-495f-8863-8433f3218a98",
   "metadata": {},
   "outputs": [
    {
     "name": "stdout",
     "output_type": "stream",
     "text": [
      "0\n",
      "2\n",
      "4\n",
      "6\n",
      "8\n"
     ]
    }
   ],
   "source": [
    "for i in range(0, 10, 2):\n",
    "    print(i)"
   ]
  },
  {
   "cell_type": "code",
   "execution_count": 17,
   "id": "03ebad10-c9ad-4eed-b4d4-b8f9d1a50cc4",
   "metadata": {},
   "outputs": [
    {
     "name": "stdout",
     "output_type": "stream",
     "text": [
      "1\n",
      "3\n",
      "5\n",
      "7\n",
      "9\n"
     ]
    }
   ],
   "source": [
    "for i in range(1, 10, 2):\n",
    "    print(i)"
   ]
  },
  {
   "cell_type": "code",
   "execution_count": 19,
   "id": "390530eb-ccd9-4901-8a91-7e79599b1102",
   "metadata": {},
   "outputs": [
    {
     "name": "stdin",
     "output_type": "stream",
     "text": [
      "Enter a limit Value 20\n"
     ]
    },
    {
     "name": "stdout",
     "output_type": "stream",
     "text": [
      "1\n",
      "3\n",
      "5\n",
      "7\n",
      "9\n",
      "11\n",
      "13\n",
      "15\n",
      "17\n",
      "19\n"
     ]
    }
   ],
   "source": [
    "# Value Initial = 1\n",
    "# Value Increment = 2\n",
    "\n",
    "# Limit Value(Conditional Checking) = 10\n",
    "\n",
    "# (1, 10, 2) = (Value Initial, Limit Value, Value Increment)\n",
    "\n",
    "# vInitial = 1 , limitValue = 10, vIncrement = 2\n",
    "\n",
    "# (vInitial, limitValue, vIncrement) = (Value Initial, Limit Value, Value Increment)\n",
    "\n",
    "n = int(input('Enter a limit Value'))\n",
    "\n",
    "for i in range(1, n, 2):\n",
    "    print(i)"
   ]
  },
  {
   "cell_type": "code",
   "execution_count": null,
   "id": "6289211c-9444-489f-a09a-3378a0fb5f50",
   "metadata": {},
   "outputs": [],
   "source": []
  }
 ],
 "metadata": {
  "kernelspec": {
   "display_name": "Python 3 (ipykernel)",
   "language": "python",
   "name": "python3"
  },
  "language_info": {
   "codemirror_mode": {
    "name": "ipython",
    "version": 3
   },
   "file_extension": ".py",
   "mimetype": "text/x-python",
   "name": "python",
   "nbconvert_exporter": "python",
   "pygments_lexer": "ipython3",
   "version": "3.13.2"
  }
 },
 "nbformat": 4,
 "nbformat_minor": 5
}
