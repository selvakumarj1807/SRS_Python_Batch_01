{
 "cells": [
  {
   "cell_type": "markdown",
   "id": "45172898-93ce-41b8-a799-fd9e4ab9a2a6",
   "metadata": {},
   "source": [
    "Conditional OR Controll Statements:\n",
    "-----------------------------------\n",
    "\n",
    "1. IF\n",
    "2. IF ELSE\n",
    "3. IF ELIF ELSE"
   ]
  },
  {
   "cell_type": "code",
   "execution_count": 2,
   "id": "1e7bbb53-c435-4590-8e76-9e3be94bf985",
   "metadata": {},
   "outputs": [],
   "source": [
    "# IF\n",
    "\n",
    "mark01 = 35\n",
    "mark02 = 45\n",
    "mark03 = 55\n",
    "\n",
    "if mark01 >= 35:\n",
    "    print(mark01, ' Pass ')"
   ]
  },
  {
   "cell_type": "code",
   "execution_count": 4,
   "id": "b1d40aaf-af51-4278-acfa-ad8e5f975cde",
   "metadata": {},
   "outputs": [
    {
     "name": "stdout",
     "output_type": "stream",
     "text": [
      "35 Fail\n"
     ]
    }
   ],
   "source": [
    "# IF ELSE\n",
    "\n",
    "mark01 = 35\n",
    "mark02 = 45\n",
    "mark03 = 55\n",
    "\n",
    "if mark01 >= 40:\n",
    "    print(mark01, ' Pass ')\n",
    "else:\n",
    "    print(mark01, 'Fail')"
   ]
  },
  {
   "cell_type": "code",
   "execution_count": 11,
   "id": "f8ef8f61-abb5-4515-8bc7-5c7efa34f412",
   "metadata": {},
   "outputs": [
    {
     "name": "stdout",
     "output_type": "stream",
     "text": [
      "40 45 55  - Pass \n"
     ]
    }
   ],
   "source": [
    "# IF ELSE\n",
    "# Using Logical Operators for Multiple Conditions in a Conditional Block\n",
    "\n",
    "mark01 = 40\n",
    "mark02 = 45\n",
    "mark03 = 55\n",
    "\n",
    "if mark01 >= 40 and mark02 >= 40 and mark03 >= 40 :\n",
    "    print(mark01, mark02, mark03, ' - Pass ')\n",
    "else:\n",
    "    print(mark01, mark02, mark03, ' - Fail')"
   ]
  },
  {
   "cell_type": "code",
   "execution_count": 22,
   "id": "d1858e24-aad4-4d29-aded-f86a22b86d38",
   "metadata": {},
   "outputs": [
    {
     "name": "stdin",
     "output_type": "stream",
     "text": [
      "Enter Mark01 :  89\n",
      "Enter Mark02 :  89\n",
      "Enter Mark03 :  90\n"
     ]
    },
    {
     "name": "stdout",
     "output_type": "stream",
     "text": [
      "89 89 90  - Pass \n",
      "Total :  268\n",
      "Average :  89\n",
      "89  B Grade \n"
     ]
    }
   ],
   "source": [
    "# Nested IF\n",
    "# IF ELIF ELSE\n",
    "# Using Logical Operators for Multiple Conditions in a Conditional Block\n",
    "\n",
    "mark01 = int(input('Enter Mark01 : '))\n",
    "mark02 = int(input('Enter Mark02 : '))\n",
    "mark03 = int(input('Enter Mark03 : '))\n",
    "\n",
    "if mark01 >= 40 and mark02 >= 40 and mark03 >= 40 :\n",
    "    print(mark01, mark02, mark03, ' - Pass ')\n",
    "\n",
    "    total = mark01 + mark02 + mark03\n",
    "\n",
    "    avg = int(total / 3)\n",
    "\n",
    "    print('Total : ', total)\n",
    "\n",
    "    print('Average : ', avg)\n",
    "\n",
    "    if avg >= 90 and avg <= 100:\n",
    "        print(avg, ' A Grade ')\n",
    "\n",
    "    elif avg >= 80 and avg <= 90:\n",
    "        print(avg, ' B Grade ')\n",
    "\n",
    "    else:\n",
    "        print(avg, ' D Grade ')\n",
    "     \n",
    "else:\n",
    "    print(mark01, mark02, mark03, ' - Fail')\n",
    "\n",
    "    if mark01 <= 40:\n",
    "        print(mark01, ' Mark 01 is Less than 40. So You are Fail ')\n",
    "\n",
    "    if mark02 <= 40:\n",
    "        print(mark01, ' Mark 02 is Less than 40. So You are Fail ')\n",
    "\n",
    "    if mark03 <= 40:\n",
    "        print(mark01, ' Mark 03 is Less than 40. So You are Fail ')\n"
   ]
  },
  {
   "cell_type": "markdown",
   "id": "eab50132-73e3-4069-aa02-2eac305bcb48",
   "metadata": {},
   "source": [
    "Loop Statements:\n",
    "----------------\n",
    "\n",
    "1. While Loop\n",
    "2. For Loop"
   ]
  },
  {
   "cell_type": "markdown",
   "id": "2fdc901e-1bc5-4b05-930c-efb0d5515086",
   "metadata": {},
   "source": [
    "# 1. While Loop:\n",
    "----------------"
   ]
  },
  {
   "cell_type": "code",
   "execution_count": 25,
   "id": "629ce1b1-7da3-4f8b-a177-875395c6ad7f",
   "metadata": {},
   "outputs": [
    {
     "name": "stdout",
     "output_type": "stream",
     "text": [
      "0\n",
      "1\n",
      "2\n",
      "3\n",
      "4\n"
     ]
    }
   ],
   "source": [
    "# i = iterative Variable\n",
    "\n",
    "i = 0 # Value Intial\n",
    "\n",
    "while i < 5: # Value Conditional Checking #  5 < 5\n",
    "    print(i)\n",
    "\n",
    "    i = i + 1 # Value Increment # i = 4 + 1"
   ]
  },
  {
   "cell_type": "code",
   "execution_count": 27,
   "id": "3b2144ed-b431-4585-aaa9-13bd3b49735a",
   "metadata": {},
   "outputs": [
    {
     "name": "stdout",
     "output_type": "stream",
     "text": [
      "1\n",
      "2\n",
      "3\n",
      "4\n",
      "5\n"
     ]
    }
   ],
   "source": [
    "\n",
    "i = 1 \n",
    "\n",
    "while i <= 5: \n",
    "    print(i)\n",
    "\n",
    "    i = i + 1 "
   ]
  },
  {
   "cell_type": "code",
   "execution_count": 31,
   "id": "46e54597-34c7-4775-bf56-9816089b78f2",
   "metadata": {},
   "outputs": [
    {
     "name": "stdin",
     "output_type": "stream",
     "text": [
      "Enter a Limit Value :  10\n"
     ]
    },
    {
     "name": "stdout",
     "output_type": "stream",
     "text": [
      "1\n",
      "3\n",
      "5\n",
      "7\n",
      "9\n"
     ]
    }
   ],
   "source": [
    "# To Print the Odd Numbers\n",
    "\n",
    "\n",
    "i = 1 \n",
    "\n",
    "n = int(input('Enter a Limit Value : '))\n",
    "\n",
    "while i <= n: \n",
    "    print(i)\n",
    "\n",
    "    i = i + 2 "
   ]
  },
  {
   "cell_type": "code",
   "execution_count": null,
   "id": "d249e8f4-be82-42e0-a79e-fc7f7184b08f",
   "metadata": {},
   "outputs": [],
   "source": [
    "'''\n",
    "ToDay Work:\n",
    "\n",
    "To Write the Python Code for print the Even Numbers (0 to 20)\n",
    "'''"
   ]
  }
 ],
 "metadata": {
  "kernelspec": {
   "display_name": "Python 3 (ipykernel)",
   "language": "python",
   "name": "python3"
  },
  "language_info": {
   "codemirror_mode": {
    "name": "ipython",
    "version": 3
   },
   "file_extension": ".py",
   "mimetype": "text/x-python",
   "name": "python",
   "nbconvert_exporter": "python",
   "pygments_lexer": "ipython3",
   "version": "3.13.2"
  }
 },
 "nbformat": 4,
 "nbformat_minor": 5
}
